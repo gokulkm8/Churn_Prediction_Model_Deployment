{
 "cells": [
  {
   "cell_type": "markdown",
   "id": "afd3b876",
   "metadata": {},
   "source": [
    "### PROBLEM STATEMENT"
   ]
  },
  {
   "cell_type": "markdown",
   "id": "df7a51e8",
   "metadata": {},
   "source": [
    "Recruiting and retaining drivers is seen by industry watchers as a tough battle for Ola. Churn among drivers is high and it’s very easy for drivers to stop working for the service on the fly or jump to Uber depending on the rates.\n",
    "\n",
    "As the companies get bigger, the high churn could become a bigger problem. To find new drivers, Ola is casting a wide net, including people who don’t have cars for jobs. But this acquisition is really costly. Losing drivers frequently impacts the morale of the organization and acquiring new drivers is more expensive than retaining existing ones.\n",
    "\n",
    "You are working as a data scientist with the Analytics Department of Ola, focused on driver team attrition. You are provided with the monthly information for a segment of drivers for 2019 and 2020 and tasked to predict whether a driver will be leaving the company or not based on their attributes like\n",
    "\n",
    "    Demographics (city, age, gender etc.)\n",
    "    Tenure information (joining date, Last Date)\n",
    "    Historical data regarding the performance of the driver (Quarterly rating, Monthly business acquired, grade, Income)"
   ]
  },
  {
   "cell_type": "markdown",
   "id": "ee9ab0ae",
   "metadata": {},
   "source": [
    "### IMPORT LIBRARIES"
   ]
  },
  {
   "cell_type": "code",
   "execution_count": 1,
   "id": "2fe10402",
   "metadata": {},
   "outputs": [],
   "source": [
    "import pandas as pd\n",
    "import numpy as np\n",
    "import matplotlib.pyplot as plt\n",
    "import seaborn as sns\n",
    "from scipy.stats import pearsonr,f_oneway,chi2_contingency,shapiro,norm,kstest,ttest_ind\n",
    "import warnings\n",
    "from sklearn.linear_model import LogisticRegression\n",
    "from sklearn import metrics\n",
    "from sklearn.metrics import confusion_matrix\n",
    "from sklearn.metrics import classification_report\n",
    "from sklearn.metrics import roc_auc_score\n",
    "from sklearn.metrics import roc_curve\n",
    "from sklearn.metrics import precision_recall_curve\n",
    "from sklearn.model_selection import train_test_split, KFold, cross_val_score, GridSearchCV\n",
    "from sklearn.preprocessing import MinMaxScaler, OneHotEncoder, StandardScaler, LabelEncoder\n",
    "from sklearn.metrics import (\n",
    "    accuracy_score, confusion_matrix, classification_report,\n",
    "    roc_auc_score, roc_curve, auc,\n",
    "    plot_confusion_matrix, plot_roc_curve\n",
    ")\n",
    "from statsmodels.stats.outliers_influence import variance_inflation_factor\n",
    "from imblearn.over_sampling import SMOTE\n",
    "from sklearn.impute import KNNImputer\n",
    "from category_encoders import TargetEncoder\n",
    "from scipy.stats import chi2_contingency\n",
    "from imblearn.over_sampling import SMOTE\n",
    "from sklearn.ensemble import RandomForestClassifier\n",
    "from xgboost import XGBClassifier\n",
    "warnings.filterwarnings('ignore')"
   ]
  },
  {
   "cell_type": "markdown",
   "id": "9cbaecd5",
   "metadata": {},
   "source": [
    "### IMPORT DATASET"
   ]
  },
  {
   "cell_type": "code",
   "execution_count": 2,
   "id": "b05ae8f7",
   "metadata": {},
   "outputs": [],
   "source": [
    "df=pd.read_csv(r\"C:\\Users\\gokul\\OneDrive\\Desktop\\SCALER\\OLA\\ola_driver_scaler.csv\")"
   ]
  },
  {
   "cell_type": "markdown",
   "id": "0c120a0c",
   "metadata": {},
   "source": [
    "### DATA EXPLORATION"
   ]
  },
  {
   "cell_type": "code",
   "execution_count": 3,
   "id": "f05cefb7",
   "metadata": {},
   "outputs": [
    {
     "data": {
      "text/html": [
       "<div>\n",
       "<style scoped>\n",
       "    .dataframe tbody tr th:only-of-type {\n",
       "        vertical-align: middle;\n",
       "    }\n",
       "\n",
       "    .dataframe tbody tr th {\n",
       "        vertical-align: top;\n",
       "    }\n",
       "\n",
       "    .dataframe thead th {\n",
       "        text-align: right;\n",
       "    }\n",
       "</style>\n",
       "<table border=\"1\" class=\"dataframe\">\n",
       "  <thead>\n",
       "    <tr style=\"text-align: right;\">\n",
       "      <th></th>\n",
       "      <th>Unnamed: 0</th>\n",
       "      <th>MMM-YY</th>\n",
       "      <th>Driver_ID</th>\n",
       "      <th>Age</th>\n",
       "      <th>Gender</th>\n",
       "      <th>City</th>\n",
       "      <th>Education_Level</th>\n",
       "      <th>Income</th>\n",
       "      <th>Dateofjoining</th>\n",
       "      <th>LastWorkingDate</th>\n",
       "      <th>Joining Designation</th>\n",
       "      <th>Grade</th>\n",
       "      <th>Total Business Value</th>\n",
       "      <th>Quarterly Rating</th>\n",
       "    </tr>\n",
       "  </thead>\n",
       "  <tbody>\n",
       "    <tr>\n",
       "      <th>0</th>\n",
       "      <td>0</td>\n",
       "      <td>01/01/19</td>\n",
       "      <td>1</td>\n",
       "      <td>28.0</td>\n",
       "      <td>0.0</td>\n",
       "      <td>C23</td>\n",
       "      <td>2</td>\n",
       "      <td>57387</td>\n",
       "      <td>24/12/18</td>\n",
       "      <td>NaN</td>\n",
       "      <td>1</td>\n",
       "      <td>1</td>\n",
       "      <td>2381060</td>\n",
       "      <td>2</td>\n",
       "    </tr>\n",
       "    <tr>\n",
       "      <th>1</th>\n",
       "      <td>1</td>\n",
       "      <td>02/01/19</td>\n",
       "      <td>1</td>\n",
       "      <td>28.0</td>\n",
       "      <td>0.0</td>\n",
       "      <td>C23</td>\n",
       "      <td>2</td>\n",
       "      <td>57387</td>\n",
       "      <td>24/12/18</td>\n",
       "      <td>NaN</td>\n",
       "      <td>1</td>\n",
       "      <td>1</td>\n",
       "      <td>-665480</td>\n",
       "      <td>2</td>\n",
       "    </tr>\n",
       "    <tr>\n",
       "      <th>2</th>\n",
       "      <td>2</td>\n",
       "      <td>03/01/19</td>\n",
       "      <td>1</td>\n",
       "      <td>28.0</td>\n",
       "      <td>0.0</td>\n",
       "      <td>C23</td>\n",
       "      <td>2</td>\n",
       "      <td>57387</td>\n",
       "      <td>24/12/18</td>\n",
       "      <td>03/11/19</td>\n",
       "      <td>1</td>\n",
       "      <td>1</td>\n",
       "      <td>0</td>\n",
       "      <td>2</td>\n",
       "    </tr>\n",
       "    <tr>\n",
       "      <th>3</th>\n",
       "      <td>3</td>\n",
       "      <td>11/01/20</td>\n",
       "      <td>2</td>\n",
       "      <td>31.0</td>\n",
       "      <td>0.0</td>\n",
       "      <td>C7</td>\n",
       "      <td>2</td>\n",
       "      <td>67016</td>\n",
       "      <td>11/06/20</td>\n",
       "      <td>NaN</td>\n",
       "      <td>2</td>\n",
       "      <td>2</td>\n",
       "      <td>0</td>\n",
       "      <td>1</td>\n",
       "    </tr>\n",
       "    <tr>\n",
       "      <th>4</th>\n",
       "      <td>4</td>\n",
       "      <td>12/01/20</td>\n",
       "      <td>2</td>\n",
       "      <td>31.0</td>\n",
       "      <td>0.0</td>\n",
       "      <td>C7</td>\n",
       "      <td>2</td>\n",
       "      <td>67016</td>\n",
       "      <td>11/06/20</td>\n",
       "      <td>NaN</td>\n",
       "      <td>2</td>\n",
       "      <td>2</td>\n",
       "      <td>0</td>\n",
       "      <td>1</td>\n",
       "    </tr>\n",
       "  </tbody>\n",
       "</table>\n",
       "</div>"
      ],
      "text/plain": [
       "   Unnamed: 0    MMM-YY  Driver_ID   Age  Gender City  Education_Level  \\\n",
       "0           0  01/01/19          1  28.0     0.0  C23                2   \n",
       "1           1  02/01/19          1  28.0     0.0  C23                2   \n",
       "2           2  03/01/19          1  28.0     0.0  C23                2   \n",
       "3           3  11/01/20          2  31.0     0.0   C7                2   \n",
       "4           4  12/01/20          2  31.0     0.0   C7                2   \n",
       "\n",
       "   Income Dateofjoining LastWorkingDate  Joining Designation  Grade  \\\n",
       "0   57387      24/12/18             NaN                    1      1   \n",
       "1   57387      24/12/18             NaN                    1      1   \n",
       "2   57387      24/12/18        03/11/19                    1      1   \n",
       "3   67016      11/06/20             NaN                    2      2   \n",
       "4   67016      11/06/20             NaN                    2      2   \n",
       "\n",
       "   Total Business Value  Quarterly Rating  \n",
       "0               2381060                 2  \n",
       "1               -665480                 2  \n",
       "2                     0                 2  \n",
       "3                     0                 1  \n",
       "4                     0                 1  "
      ]
     },
     "execution_count": 3,
     "metadata": {},
     "output_type": "execute_result"
    }
   ],
   "source": [
    "#First 5 rows#\n",
    "\n",
    "df.head()"
   ]
  },
  {
   "cell_type": "markdown",
   "id": "0568a68a",
   "metadata": {},
   "source": [
    "**MMMM-YY** : Reporting Date (Monthly)<br>\n",
    "**Driver_ID** : Unique id for drivers<br>\n",
    "**Age** : Age of the driver<br>\n",
    "**Gender** : Gender of the driver – Male : 0, Female: 1<br>\n",
    "**City** : City Code of the driver<br>\n",
    "**Education_Level** : Education level – 0 for 10+ ,1 for 12+ ,2 for graduate<br>\n",
    "**Income** : Monthly average Income of the driver<br>\n",
    "**Date Of Joining** : Joining date for the driver<br>\n",
    "**LastWorkingDate** : Last date of working for the driver<br>\n",
    "**Joining Designation** : Designation of the driver at the time of joining<br>\n",
    "**Grade** : Grade of the driver at the time of reporting<br>\n",
    "**Total Business Value** : The total business value acquired by the driver in a month (negative business indicates cancellation/refund or car EMI adjustments)<br>\n",
    "**Quarterly Rating** : Quarterly rating of the driver: 1,2,3,4,5 (higher is better)"
   ]
  },
  {
   "cell_type": "code",
   "execution_count": 4,
   "id": "fbd3b529",
   "metadata": {},
   "outputs": [
    {
     "data": {
      "text/plain": [
       "Index(['Unnamed: 0', 'MMM-YY', 'Driver_ID', 'Age', 'Gender', 'City',\n",
       "       'Education_Level', 'Income', 'Dateofjoining', 'LastWorkingDate',\n",
       "       'Joining Designation', 'Grade', 'Total Business Value',\n",
       "       'Quarterly Rating'],\n",
       "      dtype='object')"
      ]
     },
     "execution_count": 4,
     "metadata": {},
     "output_type": "execute_result"
    }
   ],
   "source": [
    "df.columns"
   ]
  },
  {
   "cell_type": "code",
   "execution_count": 5,
   "id": "99e07b1c",
   "metadata": {},
   "outputs": [],
   "source": [
    "df.drop(['Unnamed: 0'],axis=1,inplace=True)"
   ]
  },
  {
   "cell_type": "code",
   "execution_count": 6,
   "id": "3c6c0e00",
   "metadata": {},
   "outputs": [
    {
     "data": {
      "text/plain": [
       "(19104, 13)"
      ]
     },
     "execution_count": 6,
     "metadata": {},
     "output_type": "execute_result"
    }
   ],
   "source": [
    "df.shape"
   ]
  },
  {
   "cell_type": "markdown",
   "id": "ca815614",
   "metadata": {},
   "source": [
    "There are around 19100 data points and 13 features in the dataset"
   ]
  },
  {
   "cell_type": "code",
   "execution_count": 14,
   "id": "6f60fc04",
   "metadata": {},
   "outputs": [
    {
     "name": "stdout",
     "output_type": "stream",
     "text": [
      "<class 'pandas.core.frame.DataFrame'>\n",
      "RangeIndex: 19104 entries, 0 to 19103\n",
      "Data columns (total 13 columns):\n",
      " #   Column                Non-Null Count  Dtype         \n",
      "---  ------                --------------  -----         \n",
      " 0   MMM-YY                19104 non-null  datetime64[ns]\n",
      " 1   Driver_ID             19104 non-null  object        \n",
      " 2   Age                   19043 non-null  float64       \n",
      " 3   Gender                19104 non-null  object        \n",
      " 4   City                  19104 non-null  object        \n",
      " 5   Education_Level       19104 non-null  object        \n",
      " 6   Income                19104 non-null  int64         \n",
      " 7   Dateofjoining         19104 non-null  datetime64[ns]\n",
      " 8   LastWorkingDate       1616 non-null   datetime64[ns]\n",
      " 9   Joining Designation   19104 non-null  object        \n",
      " 10  Grade                 19104 non-null  object        \n",
      " 11  Total Business Value  19104 non-null  int64         \n",
      " 12  Quarterly Rating      19104 non-null  object        \n",
      "dtypes: datetime64[ns](3), float64(1), int64(2), object(7)\n",
      "memory usage: 1.9+ MB\n"
     ]
    }
   ],
   "source": [
    "#Info on datatypes of features, count of non null data points#\n",
    "\n",
    "df.info()"
   ]
  },
  {
   "cell_type": "code",
   "execution_count": 15,
   "id": "70de1372",
   "metadata": {},
   "outputs": [],
   "source": [
    "#Data type conversions\n",
    "\n",
    "df['MMM-YY']=pd.to_datetime(df['MMM-YY'])\n",
    "df['Driver_ID']=df['Driver_ID'].astype('str')\n",
    "df['Gender']=df['Gender'].astype('str')\n",
    "df['Education_Level']=df['Education_Level'].astype('str')\n",
    "df['Dateofjoining']=pd.to_datetime(df['Dateofjoining'])\n",
    "df['LastWorkingDate']=pd.to_datetime(df['LastWorkingDate'])\n",
    "df['Joining Designation']=df['Joining Designation'].astype('str')\n",
    "df['Grade']=df['Grade'].astype('str')\n",
    "df['Quarterly Rating']=df['Quarterly Rating'].astype('str')"
   ]
  },
  {
   "cell_type": "code",
   "execution_count": 16,
   "id": "bb41a057",
   "metadata": {},
   "outputs": [
    {
     "data": {
      "text/html": [
       "<div>\n",
       "<style scoped>\n",
       "    .dataframe tbody tr th:only-of-type {\n",
       "        vertical-align: middle;\n",
       "    }\n",
       "\n",
       "    .dataframe tbody tr th {\n",
       "        vertical-align: top;\n",
       "    }\n",
       "\n",
       "    .dataframe thead th {\n",
       "        text-align: right;\n",
       "    }\n",
       "</style>\n",
       "<table border=\"1\" class=\"dataframe\">\n",
       "  <thead>\n",
       "    <tr style=\"text-align: right;\">\n",
       "      <th></th>\n",
       "      <th>MMM-YY</th>\n",
       "      <th>Driver_ID</th>\n",
       "      <th>Age</th>\n",
       "      <th>Gender</th>\n",
       "      <th>City</th>\n",
       "      <th>Education_Level</th>\n",
       "      <th>Income</th>\n",
       "      <th>Dateofjoining</th>\n",
       "      <th>LastWorkingDate</th>\n",
       "      <th>Joining Designation</th>\n",
       "      <th>Grade</th>\n",
       "      <th>Total Business Value</th>\n",
       "      <th>Quarterly Rating</th>\n",
       "    </tr>\n",
       "  </thead>\n",
       "  <tbody>\n",
       "    <tr>\n",
       "      <th>count</th>\n",
       "      <td>19104</td>\n",
       "      <td>19104</td>\n",
       "      <td>19043.000000</td>\n",
       "      <td>19104</td>\n",
       "      <td>19104</td>\n",
       "      <td>19104</td>\n",
       "      <td>19104.000000</td>\n",
       "      <td>19104</td>\n",
       "      <td>1616</td>\n",
       "      <td>19104</td>\n",
       "      <td>19104</td>\n",
       "      <td>1.910400e+04</td>\n",
       "      <td>19104</td>\n",
       "    </tr>\n",
       "    <tr>\n",
       "      <th>unique</th>\n",
       "      <td>24</td>\n",
       "      <td>2381</td>\n",
       "      <td>NaN</td>\n",
       "      <td>3</td>\n",
       "      <td>29</td>\n",
       "      <td>3</td>\n",
       "      <td>NaN</td>\n",
       "      <td>869</td>\n",
       "      <td>493</td>\n",
       "      <td>5</td>\n",
       "      <td>5</td>\n",
       "      <td>NaN</td>\n",
       "      <td>4</td>\n",
       "    </tr>\n",
       "    <tr>\n",
       "      <th>top</th>\n",
       "      <td>2019-01-01 00:00:00</td>\n",
       "      <td>2110</td>\n",
       "      <td>NaN</td>\n",
       "      <td>0.0</td>\n",
       "      <td>C20</td>\n",
       "      <td>1</td>\n",
       "      <td>NaN</td>\n",
       "      <td>2015-07-23 00:00:00</td>\n",
       "      <td>2020-07-29 00:00:00</td>\n",
       "      <td>1</td>\n",
       "      <td>2</td>\n",
       "      <td>NaN</td>\n",
       "      <td>1</td>\n",
       "    </tr>\n",
       "    <tr>\n",
       "      <th>freq</th>\n",
       "      <td>1022</td>\n",
       "      <td>24</td>\n",
       "      <td>NaN</td>\n",
       "      <td>11074</td>\n",
       "      <td>1008</td>\n",
       "      <td>6864</td>\n",
       "      <td>NaN</td>\n",
       "      <td>192</td>\n",
       "      <td>70</td>\n",
       "      <td>9831</td>\n",
       "      <td>6627</td>\n",
       "      <td>NaN</td>\n",
       "      <td>7679</td>\n",
       "    </tr>\n",
       "    <tr>\n",
       "      <th>first</th>\n",
       "      <td>2019-01-01 00:00:00</td>\n",
       "      <td>NaN</td>\n",
       "      <td>NaN</td>\n",
       "      <td>NaN</td>\n",
       "      <td>NaN</td>\n",
       "      <td>NaN</td>\n",
       "      <td>NaN</td>\n",
       "      <td>2013-04-01 00:00:00</td>\n",
       "      <td>2018-12-31 00:00:00</td>\n",
       "      <td>NaN</td>\n",
       "      <td>NaN</td>\n",
       "      <td>NaN</td>\n",
       "      <td>NaN</td>\n",
       "    </tr>\n",
       "    <tr>\n",
       "      <th>last</th>\n",
       "      <td>2020-12-01 00:00:00</td>\n",
       "      <td>NaN</td>\n",
       "      <td>NaN</td>\n",
       "      <td>NaN</td>\n",
       "      <td>NaN</td>\n",
       "      <td>NaN</td>\n",
       "      <td>NaN</td>\n",
       "      <td>2020-12-28 00:00:00</td>\n",
       "      <td>2020-12-28 00:00:00</td>\n",
       "      <td>NaN</td>\n",
       "      <td>NaN</td>\n",
       "      <td>NaN</td>\n",
       "      <td>NaN</td>\n",
       "    </tr>\n",
       "    <tr>\n",
       "      <th>mean</th>\n",
       "      <td>NaN</td>\n",
       "      <td>NaN</td>\n",
       "      <td>34.668435</td>\n",
       "      <td>NaN</td>\n",
       "      <td>NaN</td>\n",
       "      <td>NaN</td>\n",
       "      <td>65652.025126</td>\n",
       "      <td>NaN</td>\n",
       "      <td>NaN</td>\n",
       "      <td>NaN</td>\n",
       "      <td>NaN</td>\n",
       "      <td>5.716621e+05</td>\n",
       "      <td>NaN</td>\n",
       "    </tr>\n",
       "    <tr>\n",
       "      <th>std</th>\n",
       "      <td>NaN</td>\n",
       "      <td>NaN</td>\n",
       "      <td>6.257912</td>\n",
       "      <td>NaN</td>\n",
       "      <td>NaN</td>\n",
       "      <td>NaN</td>\n",
       "      <td>30914.515344</td>\n",
       "      <td>NaN</td>\n",
       "      <td>NaN</td>\n",
       "      <td>NaN</td>\n",
       "      <td>NaN</td>\n",
       "      <td>1.128312e+06</td>\n",
       "      <td>NaN</td>\n",
       "    </tr>\n",
       "    <tr>\n",
       "      <th>min</th>\n",
       "      <td>NaN</td>\n",
       "      <td>NaN</td>\n",
       "      <td>21.000000</td>\n",
       "      <td>NaN</td>\n",
       "      <td>NaN</td>\n",
       "      <td>NaN</td>\n",
       "      <td>10747.000000</td>\n",
       "      <td>NaN</td>\n",
       "      <td>NaN</td>\n",
       "      <td>NaN</td>\n",
       "      <td>NaN</td>\n",
       "      <td>-6.000000e+06</td>\n",
       "      <td>NaN</td>\n",
       "    </tr>\n",
       "    <tr>\n",
       "      <th>25%</th>\n",
       "      <td>NaN</td>\n",
       "      <td>NaN</td>\n",
       "      <td>30.000000</td>\n",
       "      <td>NaN</td>\n",
       "      <td>NaN</td>\n",
       "      <td>NaN</td>\n",
       "      <td>42383.000000</td>\n",
       "      <td>NaN</td>\n",
       "      <td>NaN</td>\n",
       "      <td>NaN</td>\n",
       "      <td>NaN</td>\n",
       "      <td>0.000000e+00</td>\n",
       "      <td>NaN</td>\n",
       "    </tr>\n",
       "    <tr>\n",
       "      <th>50%</th>\n",
       "      <td>NaN</td>\n",
       "      <td>NaN</td>\n",
       "      <td>34.000000</td>\n",
       "      <td>NaN</td>\n",
       "      <td>NaN</td>\n",
       "      <td>NaN</td>\n",
       "      <td>60087.000000</td>\n",
       "      <td>NaN</td>\n",
       "      <td>NaN</td>\n",
       "      <td>NaN</td>\n",
       "      <td>NaN</td>\n",
       "      <td>2.500000e+05</td>\n",
       "      <td>NaN</td>\n",
       "    </tr>\n",
       "    <tr>\n",
       "      <th>75%</th>\n",
       "      <td>NaN</td>\n",
       "      <td>NaN</td>\n",
       "      <td>39.000000</td>\n",
       "      <td>NaN</td>\n",
       "      <td>NaN</td>\n",
       "      <td>NaN</td>\n",
       "      <td>83969.000000</td>\n",
       "      <td>NaN</td>\n",
       "      <td>NaN</td>\n",
       "      <td>NaN</td>\n",
       "      <td>NaN</td>\n",
       "      <td>6.997000e+05</td>\n",
       "      <td>NaN</td>\n",
       "    </tr>\n",
       "    <tr>\n",
       "      <th>max</th>\n",
       "      <td>NaN</td>\n",
       "      <td>NaN</td>\n",
       "      <td>58.000000</td>\n",
       "      <td>NaN</td>\n",
       "      <td>NaN</td>\n",
       "      <td>NaN</td>\n",
       "      <td>188418.000000</td>\n",
       "      <td>NaN</td>\n",
       "      <td>NaN</td>\n",
       "      <td>NaN</td>\n",
       "      <td>NaN</td>\n",
       "      <td>3.374772e+07</td>\n",
       "      <td>NaN</td>\n",
       "    </tr>\n",
       "  </tbody>\n",
       "</table>\n",
       "</div>"
      ],
      "text/plain": [
       "                     MMM-YY Driver_ID           Age Gender   City  \\\n",
       "count                 19104     19104  19043.000000  19104  19104   \n",
       "unique                   24      2381           NaN      3     29   \n",
       "top     2019-01-01 00:00:00      2110           NaN    0.0    C20   \n",
       "freq                   1022        24           NaN  11074   1008   \n",
       "first   2019-01-01 00:00:00       NaN           NaN    NaN    NaN   \n",
       "last    2020-12-01 00:00:00       NaN           NaN    NaN    NaN   \n",
       "mean                    NaN       NaN     34.668435    NaN    NaN   \n",
       "std                     NaN       NaN      6.257912    NaN    NaN   \n",
       "min                     NaN       NaN     21.000000    NaN    NaN   \n",
       "25%                     NaN       NaN     30.000000    NaN    NaN   \n",
       "50%                     NaN       NaN     34.000000    NaN    NaN   \n",
       "75%                     NaN       NaN     39.000000    NaN    NaN   \n",
       "max                     NaN       NaN     58.000000    NaN    NaN   \n",
       "\n",
       "       Education_Level         Income        Dateofjoining  \\\n",
       "count            19104   19104.000000                19104   \n",
       "unique               3            NaN                  869   \n",
       "top                  1            NaN  2015-07-23 00:00:00   \n",
       "freq              6864            NaN                  192   \n",
       "first              NaN            NaN  2013-04-01 00:00:00   \n",
       "last               NaN            NaN  2020-12-28 00:00:00   \n",
       "mean               NaN   65652.025126                  NaN   \n",
       "std                NaN   30914.515344                  NaN   \n",
       "min                NaN   10747.000000                  NaN   \n",
       "25%                NaN   42383.000000                  NaN   \n",
       "50%                NaN   60087.000000                  NaN   \n",
       "75%                NaN   83969.000000                  NaN   \n",
       "max                NaN  188418.000000                  NaN   \n",
       "\n",
       "            LastWorkingDate Joining Designation  Grade  Total Business Value  \\\n",
       "count                  1616               19104  19104          1.910400e+04   \n",
       "unique                  493                   5      5                   NaN   \n",
       "top     2020-07-29 00:00:00                   1      2                   NaN   \n",
       "freq                     70                9831   6627                   NaN   \n",
       "first   2018-12-31 00:00:00                 NaN    NaN                   NaN   \n",
       "last    2020-12-28 00:00:00                 NaN    NaN                   NaN   \n",
       "mean                    NaN                 NaN    NaN          5.716621e+05   \n",
       "std                     NaN                 NaN    NaN          1.128312e+06   \n",
       "min                     NaN                 NaN    NaN         -6.000000e+06   \n",
       "25%                     NaN                 NaN    NaN          0.000000e+00   \n",
       "50%                     NaN                 NaN    NaN          2.500000e+05   \n",
       "75%                     NaN                 NaN    NaN          6.997000e+05   \n",
       "max                     NaN                 NaN    NaN          3.374772e+07   \n",
       "\n",
       "       Quarterly Rating  \n",
       "count             19104  \n",
       "unique                4  \n",
       "top                   1  \n",
       "freq               7679  \n",
       "first               NaN  \n",
       "last                NaN  \n",
       "mean                NaN  \n",
       "std                 NaN  \n",
       "min                 NaN  \n",
       "25%                 NaN  \n",
       "50%                 NaN  \n",
       "75%                 NaN  \n",
       "max                 NaN  "
      ]
     },
     "execution_count": 16,
     "metadata": {},
     "output_type": "execute_result"
    }
   ],
   "source": [
    "df.describe(include='all')"
   ]
  },
  {
   "cell_type": "code",
   "execution_count": 17,
   "id": "c5eeed09",
   "metadata": {},
   "outputs": [
    {
     "data": {
      "text/plain": [
       "MMM-YY                      0\n",
       "Driver_ID                   0\n",
       "Age                        61\n",
       "Gender                      0\n",
       "City                        0\n",
       "Education_Level             0\n",
       "Income                      0\n",
       "Dateofjoining               0\n",
       "LastWorkingDate         17488\n",
       "Joining Designation         0\n",
       "Grade                       0\n",
       "Total Business Value        0\n",
       "Quarterly Rating            0\n",
       "dtype: int64"
      ]
     },
     "execution_count": 17,
     "metadata": {},
     "output_type": "execute_result"
    }
   ],
   "source": [
    "#Count of null values in each column#\n",
    "\n",
    "df.isnull().sum()"
   ]
  },
  {
   "cell_type": "markdown",
   "id": "7f7b11ce",
   "metadata": {},
   "source": [
    "There are null values present in 3 columns"
   ]
  },
  {
   "cell_type": "code",
   "execution_count": 18,
   "id": "ac0567e1",
   "metadata": {},
   "outputs": [
    {
     "data": {
      "text/html": [
       "<div>\n",
       "<style scoped>\n",
       "    .dataframe tbody tr th:only-of-type {\n",
       "        vertical-align: middle;\n",
       "    }\n",
       "\n",
       "    .dataframe tbody tr th {\n",
       "        vertical-align: top;\n",
       "    }\n",
       "\n",
       "    .dataframe thead th {\n",
       "        text-align: right;\n",
       "    }\n",
       "</style>\n",
       "<table border=\"1\" class=\"dataframe\">\n",
       "  <thead>\n",
       "    <tr style=\"text-align: right;\">\n",
       "      <th></th>\n",
       "      <th>Columns</th>\n",
       "      <th>Count of Columns</th>\n",
       "    </tr>\n",
       "  </thead>\n",
       "  <tbody>\n",
       "    <tr>\n",
       "      <th>0</th>\n",
       "      <td>MMM-YY</td>\n",
       "      <td>24</td>\n",
       "    </tr>\n",
       "    <tr>\n",
       "      <th>1</th>\n",
       "      <td>Driver_ID</td>\n",
       "      <td>2381</td>\n",
       "    </tr>\n",
       "    <tr>\n",
       "      <th>2</th>\n",
       "      <td>Age</td>\n",
       "      <td>36</td>\n",
       "    </tr>\n",
       "    <tr>\n",
       "      <th>3</th>\n",
       "      <td>Gender</td>\n",
       "      <td>3</td>\n",
       "    </tr>\n",
       "    <tr>\n",
       "      <th>4</th>\n",
       "      <td>City</td>\n",
       "      <td>29</td>\n",
       "    </tr>\n",
       "    <tr>\n",
       "      <th>5</th>\n",
       "      <td>Education_Level</td>\n",
       "      <td>3</td>\n",
       "    </tr>\n",
       "    <tr>\n",
       "      <th>6</th>\n",
       "      <td>Income</td>\n",
       "      <td>2383</td>\n",
       "    </tr>\n",
       "    <tr>\n",
       "      <th>7</th>\n",
       "      <td>Dateofjoining</td>\n",
       "      <td>869</td>\n",
       "    </tr>\n",
       "    <tr>\n",
       "      <th>8</th>\n",
       "      <td>LastWorkingDate</td>\n",
       "      <td>493</td>\n",
       "    </tr>\n",
       "    <tr>\n",
       "      <th>9</th>\n",
       "      <td>Joining Designation</td>\n",
       "      <td>5</td>\n",
       "    </tr>\n",
       "    <tr>\n",
       "      <th>10</th>\n",
       "      <td>Grade</td>\n",
       "      <td>5</td>\n",
       "    </tr>\n",
       "    <tr>\n",
       "      <th>11</th>\n",
       "      <td>Total Business Value</td>\n",
       "      <td>10181</td>\n",
       "    </tr>\n",
       "    <tr>\n",
       "      <th>12</th>\n",
       "      <td>Quarterly Rating</td>\n",
       "      <td>4</td>\n",
       "    </tr>\n",
       "  </tbody>\n",
       "</table>\n",
       "</div>"
      ],
      "text/plain": [
       "                 Columns  Count of Columns\n",
       "0                 MMM-YY                24\n",
       "1              Driver_ID              2381\n",
       "2                    Age                36\n",
       "3                 Gender                 3\n",
       "4                   City                29\n",
       "5        Education_Level                 3\n",
       "6                 Income              2383\n",
       "7          Dateofjoining               869\n",
       "8        LastWorkingDate               493\n",
       "9    Joining Designation                 5\n",
       "10                 Grade                 5\n",
       "11  Total Business Value             10181\n",
       "12      Quarterly Rating                 4"
      ]
     },
     "execution_count": 18,
     "metadata": {},
     "output_type": "execute_result"
    }
   ],
   "source": [
    "#Count of unique values in each columns#\n",
    "\n",
    "count_of_unique=[]\n",
    "columns_=[]\n",
    "for i in df.columns:\n",
    "    columns_.append(i)\n",
    "    count_of_unique.append(df[i].nunique())\n",
    "pd.DataFrame({'Columns':columns_,'Count of Columns':count_of_unique})"
   ]
  },
  {
   "cell_type": "markdown",
   "id": "e306d9ff",
   "metadata": {},
   "source": [
    "### KNN IMPUTATION"
   ]
  },
  {
   "cell_type": "markdown",
   "id": "c1ad034e",
   "metadata": {},
   "source": [
    "Imputation of missing values is performed using KNN Imputer "
   ]
  },
  {
   "cell_type": "code",
   "execution_count": 19,
   "id": "e8996805",
   "metadata": {},
   "outputs": [
    {
     "name": "stdout",
     "output_type": "stream",
     "text": [
      "<class 'pandas.core.frame.DataFrame'>\n",
      "RangeIndex: 19104 entries, 0 to 19103\n",
      "Data columns (total 13 columns):\n",
      " #   Column                Non-Null Count  Dtype         \n",
      "---  ------                --------------  -----         \n",
      " 0   MMM-YY                19104 non-null  datetime64[ns]\n",
      " 1   Driver_ID             19104 non-null  object        \n",
      " 2   Age                   19043 non-null  float64       \n",
      " 3   Gender                19104 non-null  object        \n",
      " 4   City                  19104 non-null  object        \n",
      " 5   Education_Level       19104 non-null  object        \n",
      " 6   Income                19104 non-null  int64         \n",
      " 7   Dateofjoining         19104 non-null  datetime64[ns]\n",
      " 8   LastWorkingDate       1616 non-null   datetime64[ns]\n",
      " 9   Joining Designation   19104 non-null  object        \n",
      " 10  Grade                 19104 non-null  object        \n",
      " 11  Total Business Value  19104 non-null  int64         \n",
      " 12  Quarterly Rating      19104 non-null  object        \n",
      "dtypes: datetime64[ns](3), float64(1), int64(2), object(7)\n",
      "memory usage: 1.9+ MB\n"
     ]
    }
   ],
   "source": [
    "df.info()"
   ]
  },
  {
   "cell_type": "code",
   "execution_count": 20,
   "id": "b9f39cea",
   "metadata": {},
   "outputs": [],
   "source": [
    "#Select features for knn imputation\n",
    "\n",
    "cols = ['Age','Gender','Education_Level','Income','Joining Designation','Grade','Total Business Value','Quarterly Rating']"
   ]
  },
  {
   "cell_type": "code",
   "execution_count": 21,
   "id": "1a1b4977",
   "metadata": {},
   "outputs": [
    {
     "data": {
      "text/html": [
       "<div>\n",
       "<style scoped>\n",
       "    .dataframe tbody tr th:only-of-type {\n",
       "        vertical-align: middle;\n",
       "    }\n",
       "\n",
       "    .dataframe tbody tr th {\n",
       "        vertical-align: top;\n",
       "    }\n",
       "\n",
       "    .dataframe thead th {\n",
       "        text-align: right;\n",
       "    }\n",
       "</style>\n",
       "<table border=\"1\" class=\"dataframe\">\n",
       "  <thead>\n",
       "    <tr style=\"text-align: right;\">\n",
       "      <th></th>\n",
       "      <th>Age</th>\n",
       "      <th>Gender</th>\n",
       "      <th>Education_Level</th>\n",
       "      <th>Income</th>\n",
       "      <th>Joining Designation</th>\n",
       "      <th>Grade</th>\n",
       "      <th>Total Business Value</th>\n",
       "      <th>Quarterly Rating</th>\n",
       "    </tr>\n",
       "  </thead>\n",
       "  <tbody>\n",
       "    <tr>\n",
       "      <th>0</th>\n",
       "      <td>28.0</td>\n",
       "      <td>0.0</td>\n",
       "      <td>2.0</td>\n",
       "      <td>57387.0</td>\n",
       "      <td>1.0</td>\n",
       "      <td>1.0</td>\n",
       "      <td>2381060.0</td>\n",
       "      <td>2.0</td>\n",
       "    </tr>\n",
       "    <tr>\n",
       "      <th>1</th>\n",
       "      <td>28.0</td>\n",
       "      <td>0.0</td>\n",
       "      <td>2.0</td>\n",
       "      <td>57387.0</td>\n",
       "      <td>1.0</td>\n",
       "      <td>1.0</td>\n",
       "      <td>-665480.0</td>\n",
       "      <td>2.0</td>\n",
       "    </tr>\n",
       "    <tr>\n",
       "      <th>2</th>\n",
       "      <td>28.0</td>\n",
       "      <td>0.0</td>\n",
       "      <td>2.0</td>\n",
       "      <td>57387.0</td>\n",
       "      <td>1.0</td>\n",
       "      <td>1.0</td>\n",
       "      <td>0.0</td>\n",
       "      <td>2.0</td>\n",
       "    </tr>\n",
       "    <tr>\n",
       "      <th>3</th>\n",
       "      <td>31.0</td>\n",
       "      <td>0.0</td>\n",
       "      <td>2.0</td>\n",
       "      <td>67016.0</td>\n",
       "      <td>2.0</td>\n",
       "      <td>2.0</td>\n",
       "      <td>0.0</td>\n",
       "      <td>1.0</td>\n",
       "    </tr>\n",
       "    <tr>\n",
       "      <th>4</th>\n",
       "      <td>31.0</td>\n",
       "      <td>0.0</td>\n",
       "      <td>2.0</td>\n",
       "      <td>67016.0</td>\n",
       "      <td>2.0</td>\n",
       "      <td>2.0</td>\n",
       "      <td>0.0</td>\n",
       "      <td>1.0</td>\n",
       "    </tr>\n",
       "    <tr>\n",
       "      <th>...</th>\n",
       "      <td>...</td>\n",
       "      <td>...</td>\n",
       "      <td>...</td>\n",
       "      <td>...</td>\n",
       "      <td>...</td>\n",
       "      <td>...</td>\n",
       "      <td>...</td>\n",
       "      <td>...</td>\n",
       "    </tr>\n",
       "    <tr>\n",
       "      <th>19099</th>\n",
       "      <td>30.0</td>\n",
       "      <td>0.0</td>\n",
       "      <td>2.0</td>\n",
       "      <td>70254.0</td>\n",
       "      <td>2.0</td>\n",
       "      <td>2.0</td>\n",
       "      <td>740280.0</td>\n",
       "      <td>3.0</td>\n",
       "    </tr>\n",
       "    <tr>\n",
       "      <th>19100</th>\n",
       "      <td>30.0</td>\n",
       "      <td>0.0</td>\n",
       "      <td>2.0</td>\n",
       "      <td>70254.0</td>\n",
       "      <td>2.0</td>\n",
       "      <td>2.0</td>\n",
       "      <td>448370.0</td>\n",
       "      <td>3.0</td>\n",
       "    </tr>\n",
       "    <tr>\n",
       "      <th>19101</th>\n",
       "      <td>30.0</td>\n",
       "      <td>0.0</td>\n",
       "      <td>2.0</td>\n",
       "      <td>70254.0</td>\n",
       "      <td>2.0</td>\n",
       "      <td>2.0</td>\n",
       "      <td>0.0</td>\n",
       "      <td>2.0</td>\n",
       "    </tr>\n",
       "    <tr>\n",
       "      <th>19102</th>\n",
       "      <td>30.0</td>\n",
       "      <td>0.0</td>\n",
       "      <td>2.0</td>\n",
       "      <td>70254.0</td>\n",
       "      <td>2.0</td>\n",
       "      <td>2.0</td>\n",
       "      <td>200420.0</td>\n",
       "      <td>2.0</td>\n",
       "    </tr>\n",
       "    <tr>\n",
       "      <th>19103</th>\n",
       "      <td>30.0</td>\n",
       "      <td>0.0</td>\n",
       "      <td>2.0</td>\n",
       "      <td>70254.0</td>\n",
       "      <td>2.0</td>\n",
       "      <td>2.0</td>\n",
       "      <td>411480.0</td>\n",
       "      <td>2.0</td>\n",
       "    </tr>\n",
       "  </tbody>\n",
       "</table>\n",
       "<p>19104 rows × 8 columns</p>\n",
       "</div>"
      ],
      "text/plain": [
       "        Age  Gender  Education_Level   Income  Joining Designation  Grade  \\\n",
       "0      28.0     0.0              2.0  57387.0                  1.0    1.0   \n",
       "1      28.0     0.0              2.0  57387.0                  1.0    1.0   \n",
       "2      28.0     0.0              2.0  57387.0                  1.0    1.0   \n",
       "3      31.0     0.0              2.0  67016.0                  2.0    2.0   \n",
       "4      31.0     0.0              2.0  67016.0                  2.0    2.0   \n",
       "...     ...     ...              ...      ...                  ...    ...   \n",
       "19099  30.0     0.0              2.0  70254.0                  2.0    2.0   \n",
       "19100  30.0     0.0              2.0  70254.0                  2.0    2.0   \n",
       "19101  30.0     0.0              2.0  70254.0                  2.0    2.0   \n",
       "19102  30.0     0.0              2.0  70254.0                  2.0    2.0   \n",
       "19103  30.0     0.0              2.0  70254.0                  2.0    2.0   \n",
       "\n",
       "       Total Business Value  Quarterly Rating  \n",
       "0                 2381060.0               2.0  \n",
       "1                 -665480.0               2.0  \n",
       "2                       0.0               2.0  \n",
       "3                       0.0               1.0  \n",
       "4                       0.0               1.0  \n",
       "...                     ...               ...  \n",
       "19099              740280.0               3.0  \n",
       "19100              448370.0               3.0  \n",
       "19101                   0.0               2.0  \n",
       "19102              200420.0               2.0  \n",
       "19103              411480.0               2.0  \n",
       "\n",
       "[19104 rows x 8 columns]"
      ]
     },
     "execution_count": 21,
     "metadata": {},
     "output_type": "execute_result"
    }
   ],
   "source": [
    "#Impute using KNNImputer\n",
    "\n",
    "imputer = KNNImputer()\n",
    "imputed_datas = imputer.fit_transform(df[cols])\n",
    "df_imputed = pd.DataFrame(imputed_datas,columns=cols)\n",
    "df_imputed"
   ]
  },
  {
   "cell_type": "markdown",
   "id": "3282f447",
   "metadata": {},
   "source": [
    "### PROCESSING OF IMPUTED VALUES"
   ]
  },
  {
   "cell_type": "code",
   "execution_count": 22,
   "id": "a74c810d",
   "metadata": {},
   "outputs": [
    {
     "data": {
      "text/plain": [
       "array([0. , 1. , 0.2, 0.8, 0.6, 0.4])"
      ]
     },
     "execution_count": 22,
     "metadata": {},
     "output_type": "execute_result"
    }
   ],
   "source": [
    "df_imputed['Gender'].unique()"
   ]
  },
  {
   "cell_type": "markdown",
   "id": "e50dd9ee",
   "metadata": {},
   "source": [
    "Since in KNN imputation, the mean values are being filled, there will be float values where float values doesnt makes much sense.<br>\n",
    "ex:<br>\n",
    "There will be a value for gender between 0 & 1<br>\n",
    "To solve this problem, for the features which is imputed, we will round off the values"
   ]
  },
  {
   "cell_type": "code",
   "execution_count": 23,
   "id": "012190bf",
   "metadata": {},
   "outputs": [],
   "source": [
    "df_imputed[cols]=np.round(df_imputed[cols])"
   ]
  },
  {
   "cell_type": "code",
   "execution_count": 24,
   "id": "1b3ee337",
   "metadata": {},
   "outputs": [
    {
     "data": {
      "text/plain": [
       "array([0., 1.])"
      ]
     },
     "execution_count": 24,
     "metadata": {},
     "output_type": "execute_result"
    }
   ],
   "source": [
    "df_imputed['Gender'].unique()"
   ]
  },
  {
   "cell_type": "markdown",
   "id": "720d56b3",
   "metadata": {},
   "source": [
    "### CONCATENATION WITH REMAINING FEATURES"
   ]
  },
  {
   "cell_type": "code",
   "execution_count": 25,
   "id": "b5bbdf39",
   "metadata": {},
   "outputs": [
    {
     "data": {
      "text/plain": [
       "['MMM-YY', 'LastWorkingDate', 'Dateofjoining', 'Driver_ID', 'City']"
      ]
     },
     "execution_count": 25,
     "metadata": {},
     "output_type": "execute_result"
    }
   ],
   "source": [
    "#Get the remaining columns for concatenation with the initial dataset\n",
    "\n",
    "remaining_cols = list(set(df.columns).difference(set(df_imputed.columns)))\n",
    "remaining_cols"
   ]
  },
  {
   "cell_type": "code",
   "execution_count": 26,
   "id": "221cdf65",
   "metadata": {},
   "outputs": [],
   "source": [
    "#Concatenate the 2 dataframes\n",
    "\n",
    "df1 = pd.concat([df[remaining_cols],df_imputed],axis=1)"
   ]
  },
  {
   "cell_type": "code",
   "execution_count": 27,
   "id": "422e3058",
   "metadata": {},
   "outputs": [
    {
     "data": {
      "text/plain": [
       "(19104, 13)"
      ]
     },
     "execution_count": 27,
     "metadata": {},
     "output_type": "execute_result"
    }
   ],
   "source": [
    "df1.shape"
   ]
  },
  {
   "cell_type": "code",
   "execution_count": 28,
   "id": "2e2a4727",
   "metadata": {},
   "outputs": [
    {
     "data": {
      "text/plain": [
       "MMM-YY                      0\n",
       "LastWorkingDate         17488\n",
       "Dateofjoining               0\n",
       "Driver_ID                   0\n",
       "City                        0\n",
       "Age                         0\n",
       "Gender                      0\n",
       "Education_Level             0\n",
       "Income                      0\n",
       "Joining Designation         0\n",
       "Grade                       0\n",
       "Total Business Value        0\n",
       "Quarterly Rating            0\n",
       "dtype: int64"
      ]
     },
     "execution_count": 28,
     "metadata": {},
     "output_type": "execute_result"
    }
   ],
   "source": [
    "df1.isnull().sum()"
   ]
  },
  {
   "cell_type": "markdown",
   "id": "2c7535ce",
   "metadata": {},
   "source": [
    "* All the age columns got imputed\n",
    "* Last working date is not filled because we have to find the target variable (churn) using this feature and it doesnt make sense to impute this feature"
   ]
  },
  {
   "cell_type": "code",
   "execution_count": 29,
   "id": "313b970c",
   "metadata": {},
   "outputs": [
    {
     "data": {
      "text/html": [
       "<div>\n",
       "<style scoped>\n",
       "    .dataframe tbody tr th:only-of-type {\n",
       "        vertical-align: middle;\n",
       "    }\n",
       "\n",
       "    .dataframe tbody tr th {\n",
       "        vertical-align: top;\n",
       "    }\n",
       "\n",
       "    .dataframe thead th {\n",
       "        text-align: right;\n",
       "    }\n",
       "</style>\n",
       "<table border=\"1\" class=\"dataframe\">\n",
       "  <thead>\n",
       "    <tr style=\"text-align: right;\">\n",
       "      <th></th>\n",
       "      <th>MMM-YY</th>\n",
       "      <th>LastWorkingDate</th>\n",
       "      <th>Dateofjoining</th>\n",
       "      <th>Driver_ID</th>\n",
       "      <th>City</th>\n",
       "      <th>Age</th>\n",
       "      <th>Gender</th>\n",
       "      <th>Education_Level</th>\n",
       "      <th>Income</th>\n",
       "      <th>Joining Designation</th>\n",
       "      <th>Grade</th>\n",
       "      <th>Total Business Value</th>\n",
       "      <th>Quarterly Rating</th>\n",
       "    </tr>\n",
       "  </thead>\n",
       "  <tbody>\n",
       "    <tr>\n",
       "      <th>0</th>\n",
       "      <td>2019-01-01</td>\n",
       "      <td>NaT</td>\n",
       "      <td>2018-12-24</td>\n",
       "      <td>1</td>\n",
       "      <td>C23</td>\n",
       "      <td>28.0</td>\n",
       "      <td>0.0</td>\n",
       "      <td>2.0</td>\n",
       "      <td>57387.0</td>\n",
       "      <td>1.0</td>\n",
       "      <td>1.0</td>\n",
       "      <td>2381060.0</td>\n",
       "      <td>2.0</td>\n",
       "    </tr>\n",
       "    <tr>\n",
       "      <th>1</th>\n",
       "      <td>2019-02-01</td>\n",
       "      <td>NaT</td>\n",
       "      <td>2018-12-24</td>\n",
       "      <td>1</td>\n",
       "      <td>C23</td>\n",
       "      <td>28.0</td>\n",
       "      <td>0.0</td>\n",
       "      <td>2.0</td>\n",
       "      <td>57387.0</td>\n",
       "      <td>1.0</td>\n",
       "      <td>1.0</td>\n",
       "      <td>-665480.0</td>\n",
       "      <td>2.0</td>\n",
       "    </tr>\n",
       "    <tr>\n",
       "      <th>2</th>\n",
       "      <td>2019-03-01</td>\n",
       "      <td>2019-03-11</td>\n",
       "      <td>2018-12-24</td>\n",
       "      <td>1</td>\n",
       "      <td>C23</td>\n",
       "      <td>28.0</td>\n",
       "      <td>0.0</td>\n",
       "      <td>2.0</td>\n",
       "      <td>57387.0</td>\n",
       "      <td>1.0</td>\n",
       "      <td>1.0</td>\n",
       "      <td>0.0</td>\n",
       "      <td>2.0</td>\n",
       "    </tr>\n",
       "    <tr>\n",
       "      <th>3</th>\n",
       "      <td>2020-11-01</td>\n",
       "      <td>NaT</td>\n",
       "      <td>2020-11-06</td>\n",
       "      <td>2</td>\n",
       "      <td>C7</td>\n",
       "      <td>31.0</td>\n",
       "      <td>0.0</td>\n",
       "      <td>2.0</td>\n",
       "      <td>67016.0</td>\n",
       "      <td>2.0</td>\n",
       "      <td>2.0</td>\n",
       "      <td>0.0</td>\n",
       "      <td>1.0</td>\n",
       "    </tr>\n",
       "    <tr>\n",
       "      <th>4</th>\n",
       "      <td>2020-12-01</td>\n",
       "      <td>NaT</td>\n",
       "      <td>2020-11-06</td>\n",
       "      <td>2</td>\n",
       "      <td>C7</td>\n",
       "      <td>31.0</td>\n",
       "      <td>0.0</td>\n",
       "      <td>2.0</td>\n",
       "      <td>67016.0</td>\n",
       "      <td>2.0</td>\n",
       "      <td>2.0</td>\n",
       "      <td>0.0</td>\n",
       "      <td>1.0</td>\n",
       "    </tr>\n",
       "  </tbody>\n",
       "</table>\n",
       "</div>"
      ],
      "text/plain": [
       "      MMM-YY LastWorkingDate Dateofjoining Driver_ID City   Age  Gender  \\\n",
       "0 2019-01-01             NaT    2018-12-24         1  C23  28.0     0.0   \n",
       "1 2019-02-01             NaT    2018-12-24         1  C23  28.0     0.0   \n",
       "2 2019-03-01      2019-03-11    2018-12-24         1  C23  28.0     0.0   \n",
       "3 2020-11-01             NaT    2020-11-06         2   C7  31.0     0.0   \n",
       "4 2020-12-01             NaT    2020-11-06         2   C7  31.0     0.0   \n",
       "\n",
       "   Education_Level   Income  Joining Designation  Grade  Total Business Value  \\\n",
       "0              2.0  57387.0                  1.0    1.0             2381060.0   \n",
       "1              2.0  57387.0                  1.0    1.0             -665480.0   \n",
       "2              2.0  57387.0                  1.0    1.0                   0.0   \n",
       "3              2.0  67016.0                  2.0    2.0                   0.0   \n",
       "4              2.0  67016.0                  2.0    2.0                   0.0   \n",
       "\n",
       "   Quarterly Rating  \n",
       "0               2.0  \n",
       "1               2.0  \n",
       "2               2.0  \n",
       "3               1.0  \n",
       "4               1.0  "
      ]
     },
     "execution_count": 29,
     "metadata": {},
     "output_type": "execute_result"
    }
   ],
   "source": [
    "df1.head()"
   ]
  },
  {
   "cell_type": "markdown",
   "id": "946860bd",
   "metadata": {},
   "source": [
    "Same Drived_id is present in multiple rows. For churn prediction, it is necessary to process the dataset to have one row corresponding to one driver_id."
   ]
  },
  {
   "cell_type": "code",
   "execution_count": 30,
   "id": "874c104a",
   "metadata": {},
   "outputs": [
    {
     "data": {
      "text/plain": [
       "Index(['MMM-YY', 'LastWorkingDate', 'Dateofjoining', 'Driver_ID', 'City',\n",
       "       'Age', 'Gender', 'Education_Level', 'Income', 'Joining Designation',\n",
       "       'Grade', 'Total Business Value', 'Quarterly Rating'],\n",
       "      dtype='object')"
      ]
     },
     "execution_count": 30,
     "metadata": {},
     "output_type": "execute_result"
    }
   ],
   "source": [
    "df1.columns"
   ]
  },
  {
   "cell_type": "markdown",
   "id": "ef947385",
   "metadata": {},
   "source": [
    "### ESTIMATE WHETHER THERE IS ANY IMPROVEMENT IN QUARTERLY RATING FOR EACH DRIVER"
   ]
  },
  {
   "cell_type": "code",
   "execution_count": 31,
   "id": "43f46e70",
   "metadata": {},
   "outputs": [],
   "source": [
    "# Get the  first & last quarterly ratings of each driver\n",
    "\n",
    "df_temp = df1.groupby('Driver_ID')['Quarterly Rating'].agg(['first','last']).reset_index()\n",
    "\n",
    "# Check whether there is improvement in quarterly rating comparing the first & last ratings\n",
    "\n",
    "df_temp['imp']=np.where(df_temp['last']>df_temp['first'],1,0)\n",
    "\n",
    "# If imp=1 ==> there is improvement else there is not\n",
    "# Get the driver ids where imp=1\n",
    "\n",
    "ids = df_temp[df_temp['imp']==1]['Driver_ID']\n",
    "\n",
    "# Create a new column in the original dataset naming quarterly_rating_imp and update the value=1 for the Driver_id=ids\n",
    "\n",
    "df1['quarterly_rating_imp']=0\n",
    "\n",
    "df1.loc[df1['Driver_ID'].isin(ids),'quarterly_rating_imp']=1"
   ]
  },
  {
   "cell_type": "markdown",
   "id": "a6dfe889",
   "metadata": {},
   "source": [
    "### ESTIMATE WHETHER THERE IS ANY IMPROVEMENT IN INCOME FOR EACH DRIVER"
   ]
  },
  {
   "cell_type": "code",
   "execution_count": 32,
   "id": "585544f0",
   "metadata": {},
   "outputs": [],
   "source": [
    "# Get the  first & last income details of each driver\n",
    "\n",
    "df_temp = df1.groupby('Driver_ID')['Income'].agg(['first','last']).reset_index()\n",
    "\n",
    "# Check whether there is improvement in income comparing the first & last values\n",
    "\n",
    "df_temp['imp']=np.where(df_temp['last']>df_temp['first'],1,0)\n",
    "\n",
    "# If imp=1 ==> there is improvement else there is not\n",
    "# Get the driver ids where imp=1\n",
    "\n",
    "ids = df_temp[df_temp['imp']==1]['Driver_ID']\n",
    "\n",
    "# Create a new column in the original dataset naming income_imp and update the value=1 for the Driver_id=ids\n",
    "\n",
    "df1['income_imp']=0\n",
    "\n",
    "df1.loc[df1['Driver_ID'].isin(ids),'income_imp']=1"
   ]
  },
  {
   "cell_type": "code",
   "execution_count": 33,
   "id": "5aac410e",
   "metadata": {},
   "outputs": [
    {
     "data": {
      "text/plain": [
       "Index(['MMM-YY', 'LastWorkingDate', 'Dateofjoining', 'Driver_ID', 'City',\n",
       "       'Age', 'Gender', 'Education_Level', 'Income', 'Joining Designation',\n",
       "       'Grade', 'Total Business Value', 'Quarterly Rating',\n",
       "       'quarterly_rating_imp', 'income_imp'],\n",
       "      dtype='object')"
      ]
     },
     "execution_count": 33,
     "metadata": {},
     "output_type": "execute_result"
    }
   ],
   "source": [
    "df1.columns"
   ]
  },
  {
   "cell_type": "code",
   "execution_count": 34,
   "id": "546c6f9c",
   "metadata": {},
   "outputs": [
    {
     "data": {
      "text/plain": [
       "(19104, 15)"
      ]
     },
     "execution_count": 34,
     "metadata": {},
     "output_type": "execute_result"
    }
   ],
   "source": [
    "df1.shape"
   ]
  },
  {
   "cell_type": "markdown",
   "id": "092050f5",
   "metadata": {},
   "source": [
    "### AGGREGATE THE DATASET FOR HAVING 1 ROW FOR 1 DRIVER ID"
   ]
  },
  {
   "cell_type": "code",
   "execution_count": 35,
   "id": "c4c0ac12",
   "metadata": {},
   "outputs": [],
   "source": [
    "dictionary = {'MMM-YY':'max','Age':'max','Gender':'last','City':'last','Education_Level':'last',\n",
    "             'Income':'last','Dateofjoining':'last','LastWorkingDate':'last','Joining Designation':'last',\n",
    "             'Grade':'last','Total Business Value':'sum','Quarterly Rating':'last','quarterly_rating_imp':'last',\n",
    "             'income_imp':'last'}"
   ]
  },
  {
   "cell_type": "code",
   "execution_count": 36,
   "id": "9d5ee350",
   "metadata": {},
   "outputs": [
    {
     "data": {
      "text/html": [
       "<div>\n",
       "<style scoped>\n",
       "    .dataframe tbody tr th:only-of-type {\n",
       "        vertical-align: middle;\n",
       "    }\n",
       "\n",
       "    .dataframe tbody tr th {\n",
       "        vertical-align: top;\n",
       "    }\n",
       "\n",
       "    .dataframe thead th {\n",
       "        text-align: right;\n",
       "    }\n",
       "</style>\n",
       "<table border=\"1\" class=\"dataframe\">\n",
       "  <thead>\n",
       "    <tr style=\"text-align: right;\">\n",
       "      <th></th>\n",
       "      <th>Driver_ID</th>\n",
       "      <th>MMM-YY</th>\n",
       "      <th>Age</th>\n",
       "      <th>Gender</th>\n",
       "      <th>City</th>\n",
       "      <th>Education_Level</th>\n",
       "      <th>Income</th>\n",
       "      <th>Dateofjoining</th>\n",
       "      <th>LastWorkingDate</th>\n",
       "      <th>Joining Designation</th>\n",
       "      <th>Grade</th>\n",
       "      <th>Total Business Value</th>\n",
       "      <th>Quarterly Rating</th>\n",
       "      <th>quarterly_rating_imp</th>\n",
       "      <th>income_imp</th>\n",
       "    </tr>\n",
       "  </thead>\n",
       "  <tbody>\n",
       "    <tr>\n",
       "      <th>0</th>\n",
       "      <td>1</td>\n",
       "      <td>2019-03-01</td>\n",
       "      <td>28.0</td>\n",
       "      <td>0.0</td>\n",
       "      <td>C23</td>\n",
       "      <td>2.0</td>\n",
       "      <td>57387.0</td>\n",
       "      <td>2018-12-24</td>\n",
       "      <td>2019-03-11</td>\n",
       "      <td>1.0</td>\n",
       "      <td>1.0</td>\n",
       "      <td>1715580.0</td>\n",
       "      <td>2.0</td>\n",
       "      <td>0</td>\n",
       "      <td>0</td>\n",
       "    </tr>\n",
       "    <tr>\n",
       "      <th>1</th>\n",
       "      <td>1000</td>\n",
       "      <td>2020-04-01</td>\n",
       "      <td>28.0</td>\n",
       "      <td>1.0</td>\n",
       "      <td>C3</td>\n",
       "      <td>2.0</td>\n",
       "      <td>56016.0</td>\n",
       "      <td>2019-11-28</td>\n",
       "      <td>2020-04-25</td>\n",
       "      <td>1.0</td>\n",
       "      <td>1.0</td>\n",
       "      <td>0.0</td>\n",
       "      <td>1.0</td>\n",
       "      <td>0</td>\n",
       "      <td>0</td>\n",
       "    </tr>\n",
       "    <tr>\n",
       "      <th>2</th>\n",
       "      <td>1001</td>\n",
       "      <td>2019-09-01</td>\n",
       "      <td>38.0</td>\n",
       "      <td>1.0</td>\n",
       "      <td>C25</td>\n",
       "      <td>2.0</td>\n",
       "      <td>127070.0</td>\n",
       "      <td>2018-01-12</td>\n",
       "      <td>2019-08-30</td>\n",
       "      <td>2.0</td>\n",
       "      <td>3.0</td>\n",
       "      <td>1646640.0</td>\n",
       "      <td>1.0</td>\n",
       "      <td>0</td>\n",
       "      <td>0</td>\n",
       "    </tr>\n",
       "    <tr>\n",
       "      <th>3</th>\n",
       "      <td>1002</td>\n",
       "      <td>2019-03-01</td>\n",
       "      <td>29.0</td>\n",
       "      <td>0.0</td>\n",
       "      <td>C3</td>\n",
       "      <td>0.0</td>\n",
       "      <td>58277.0</td>\n",
       "      <td>2018-12-28</td>\n",
       "      <td>2019-03-04</td>\n",
       "      <td>1.0</td>\n",
       "      <td>1.0</td>\n",
       "      <td>194320.0</td>\n",
       "      <td>1.0</td>\n",
       "      <td>0</td>\n",
       "      <td>0</td>\n",
       "    </tr>\n",
       "    <tr>\n",
       "      <th>4</th>\n",
       "      <td>1003</td>\n",
       "      <td>2019-05-01</td>\n",
       "      <td>28.0</td>\n",
       "      <td>0.0</td>\n",
       "      <td>C18</td>\n",
       "      <td>0.0</td>\n",
       "      <td>11706.0</td>\n",
       "      <td>2018-08-24</td>\n",
       "      <td>2019-05-05</td>\n",
       "      <td>1.0</td>\n",
       "      <td>1.0</td>\n",
       "      <td>570460.0</td>\n",
       "      <td>1.0</td>\n",
       "      <td>0</td>\n",
       "      <td>0</td>\n",
       "    </tr>\n",
       "    <tr>\n",
       "      <th>...</th>\n",
       "      <td>...</td>\n",
       "      <td>...</td>\n",
       "      <td>...</td>\n",
       "      <td>...</td>\n",
       "      <td>...</td>\n",
       "      <td>...</td>\n",
       "      <td>...</td>\n",
       "      <td>...</td>\n",
       "      <td>...</td>\n",
       "      <td>...</td>\n",
       "      <td>...</td>\n",
       "      <td>...</td>\n",
       "      <td>...</td>\n",
       "      <td>...</td>\n",
       "      <td>...</td>\n",
       "    </tr>\n",
       "    <tr>\n",
       "      <th>2376</th>\n",
       "      <td>995</td>\n",
       "      <td>2019-06-01</td>\n",
       "      <td>31.0</td>\n",
       "      <td>0.0</td>\n",
       "      <td>C17</td>\n",
       "      <td>1.0</td>\n",
       "      <td>69418.0</td>\n",
       "      <td>2016-05-01</td>\n",
       "      <td>2019-05-30</td>\n",
       "      <td>1.0</td>\n",
       "      <td>3.0</td>\n",
       "      <td>1272730.0</td>\n",
       "      <td>1.0</td>\n",
       "      <td>0</td>\n",
       "      <td>0</td>\n",
       "    </tr>\n",
       "    <tr>\n",
       "      <th>2377</th>\n",
       "      <td>996</td>\n",
       "      <td>2019-02-01</td>\n",
       "      <td>37.0</td>\n",
       "      <td>0.0</td>\n",
       "      <td>C6</td>\n",
       "      <td>2.0</td>\n",
       "      <td>46134.0</td>\n",
       "      <td>2018-05-18</td>\n",
       "      <td>2019-02-06</td>\n",
       "      <td>1.0</td>\n",
       "      <td>1.0</td>\n",
       "      <td>213560.0</td>\n",
       "      <td>1.0</td>\n",
       "      <td>0</td>\n",
       "      <td>0</td>\n",
       "    </tr>\n",
       "    <tr>\n",
       "      <th>2378</th>\n",
       "      <td>997</td>\n",
       "      <td>2019-07-01</td>\n",
       "      <td>28.0</td>\n",
       "      <td>0.0</td>\n",
       "      <td>C14</td>\n",
       "      <td>0.0</td>\n",
       "      <td>40654.0</td>\n",
       "      <td>2017-10-21</td>\n",
       "      <td>2019-06-28</td>\n",
       "      <td>2.0</td>\n",
       "      <td>2.0</td>\n",
       "      <td>1933470.0</td>\n",
       "      <td>1.0</td>\n",
       "      <td>0</td>\n",
       "      <td>0</td>\n",
       "    </tr>\n",
       "    <tr>\n",
       "      <th>2379</th>\n",
       "      <td>998</td>\n",
       "      <td>2019-05-01</td>\n",
       "      <td>32.0</td>\n",
       "      <td>0.0</td>\n",
       "      <td>C19</td>\n",
       "      <td>0.0</td>\n",
       "      <td>37617.0</td>\n",
       "      <td>2018-06-02</td>\n",
       "      <td>2019-05-23</td>\n",
       "      <td>1.0</td>\n",
       "      <td>1.0</td>\n",
       "      <td>1033030.0</td>\n",
       "      <td>1.0</td>\n",
       "      <td>0</td>\n",
       "      <td>0</td>\n",
       "    </tr>\n",
       "    <tr>\n",
       "      <th>2380</th>\n",
       "      <td>999</td>\n",
       "      <td>2020-12-01</td>\n",
       "      <td>23.0</td>\n",
       "      <td>1.0</td>\n",
       "      <td>C20</td>\n",
       "      <td>1.0</td>\n",
       "      <td>36811.0</td>\n",
       "      <td>2020-05-05</td>\n",
       "      <td>NaT</td>\n",
       "      <td>2.0</td>\n",
       "      <td>2.0</td>\n",
       "      <td>1908000.0</td>\n",
       "      <td>2.0</td>\n",
       "      <td>1</td>\n",
       "      <td>0</td>\n",
       "    </tr>\n",
       "  </tbody>\n",
       "</table>\n",
       "<p>2381 rows × 15 columns</p>\n",
       "</div>"
      ],
      "text/plain": [
       "     Driver_ID     MMM-YY   Age  Gender City  Education_Level    Income  \\\n",
       "0            1 2019-03-01  28.0     0.0  C23              2.0   57387.0   \n",
       "1         1000 2020-04-01  28.0     1.0   C3              2.0   56016.0   \n",
       "2         1001 2019-09-01  38.0     1.0  C25              2.0  127070.0   \n",
       "3         1002 2019-03-01  29.0     0.0   C3              0.0   58277.0   \n",
       "4         1003 2019-05-01  28.0     0.0  C18              0.0   11706.0   \n",
       "...        ...        ...   ...     ...  ...              ...       ...   \n",
       "2376       995 2019-06-01  31.0     0.0  C17              1.0   69418.0   \n",
       "2377       996 2019-02-01  37.0     0.0   C6              2.0   46134.0   \n",
       "2378       997 2019-07-01  28.0     0.0  C14              0.0   40654.0   \n",
       "2379       998 2019-05-01  32.0     0.0  C19              0.0   37617.0   \n",
       "2380       999 2020-12-01  23.0     1.0  C20              1.0   36811.0   \n",
       "\n",
       "     Dateofjoining LastWorkingDate  Joining Designation  Grade  \\\n",
       "0       2018-12-24      2019-03-11                  1.0    1.0   \n",
       "1       2019-11-28      2020-04-25                  1.0    1.0   \n",
       "2       2018-01-12      2019-08-30                  2.0    3.0   \n",
       "3       2018-12-28      2019-03-04                  1.0    1.0   \n",
       "4       2018-08-24      2019-05-05                  1.0    1.0   \n",
       "...            ...             ...                  ...    ...   \n",
       "2376    2016-05-01      2019-05-30                  1.0    3.0   \n",
       "2377    2018-05-18      2019-02-06                  1.0    1.0   \n",
       "2378    2017-10-21      2019-06-28                  2.0    2.0   \n",
       "2379    2018-06-02      2019-05-23                  1.0    1.0   \n",
       "2380    2020-05-05             NaT                  2.0    2.0   \n",
       "\n",
       "      Total Business Value  Quarterly Rating  quarterly_rating_imp  income_imp  \n",
       "0                1715580.0               2.0                     0           0  \n",
       "1                      0.0               1.0                     0           0  \n",
       "2                1646640.0               1.0                     0           0  \n",
       "3                 194320.0               1.0                     0           0  \n",
       "4                 570460.0               1.0                     0           0  \n",
       "...                    ...               ...                   ...         ...  \n",
       "2376             1272730.0               1.0                     0           0  \n",
       "2377              213560.0               1.0                     0           0  \n",
       "2378             1933470.0               1.0                     0           0  \n",
       "2379             1033030.0               1.0                     0           0  \n",
       "2380             1908000.0               2.0                     1           0  \n",
       "\n",
       "[2381 rows x 15 columns]"
      ]
     },
     "execution_count": 36,
     "metadata": {},
     "output_type": "execute_result"
    }
   ],
   "source": [
    "df_grouped = df1.groupby('Driver_ID').aggregate(dictionary).reset_index()\n",
    "df_grouped"
   ]
  },
  {
   "cell_type": "markdown",
   "id": "8fa3c981",
   "metadata": {},
   "source": [
    "### ESTIMATE THE TARGET FEATURE FOR PREDICTION"
   ]
  },
  {
   "cell_type": "code",
   "execution_count": 37,
   "id": "8352e98b",
   "metadata": {},
   "outputs": [],
   "source": [
    "#Estimate target feature for prediction\n",
    "#If lastworkingday is not null then the driver has churned else the driver is still working\n",
    "#Target = 1 ===> Churned else not churned\n",
    "\n",
    "df_grouped['Target'] = np.where(df_grouped['LastWorkingDate'].isnull(),0,1)"
   ]
  },
  {
   "cell_type": "code",
   "execution_count": 38,
   "id": "56680115",
   "metadata": {},
   "outputs": [
    {
     "data": {
      "text/plain": [
       "1    1616\n",
       "0     765\n",
       "Name: Target, dtype: int64"
      ]
     },
     "execution_count": 38,
     "metadata": {},
     "output_type": "execute_result"
    }
   ],
   "source": [
    "df_grouped['Target'].value_counts()"
   ]
  },
  {
   "cell_type": "markdown",
   "id": "5048deae",
   "metadata": {},
   "source": [
    "Number of drivers churned is approx 210% higher than those not churned"
   ]
  },
  {
   "cell_type": "code",
   "execution_count": 39,
   "id": "8b6edab6",
   "metadata": {},
   "outputs": [
    {
     "data": {
      "text/plain": [
       "<AxesSubplot:xlabel='Age', ylabel='Count'>"
      ]
     },
     "execution_count": 39,
     "metadata": {},
     "output_type": "execute_result"
    },
    {
     "data": {
      "image/png": "[encoded data removed]",
      "text/plain": [
       "<Figure size 640x480 with 1 Axes>"
      ]
     },
     "metadata": {},
     "output_type": "display_data"
    }
   ],
   "source": [
    "sns.histplot(data=df_grouped,x='Age')"
   ]
  },
  {
   "cell_type": "markdown",
   "id": "fd5f0590",
   "metadata": {},
   "source": [
    "Majority of driver are in the age group of 30 - 35"
   ]
  },
  {
   "cell_type": "code",
   "execution_count": 40,
   "id": "e136f400",
   "metadata": {},
   "outputs": [
    {
     "name": "stdout",
     "output_type": "stream",
     "text": [
      "<class 'pandas.core.frame.DataFrame'>\n",
      "RangeIndex: 2381 entries, 0 to 2380\n",
      "Data columns (total 16 columns):\n",
      " #   Column                Non-Null Count  Dtype         \n",
      "---  ------                --------------  -----         \n",
      " 0   Driver_ID             2381 non-null   object        \n",
      " 1   MMM-YY                2381 non-null   datetime64[ns]\n",
      " 2   Age                   2381 non-null   float64       \n",
      " 3   Gender                2381 non-null   float64       \n",
      " 4   City                  2381 non-null   object        \n",
      " 5   Education_Level       2381 non-null   float64       \n",
      " 6   Income                2381 non-null   float64       \n",
      " 7   Dateofjoining         2381 non-null   datetime64[ns]\n",
      " 8   LastWorkingDate       1616 non-null   datetime64[ns]\n",
      " 9   Joining Designation   2381 non-null   float64       \n",
      " 10  Grade                 2381 non-null   float64       \n",
      " 11  Total Business Value  2381 non-null   float64       \n",
      " 12  Quarterly Rating      2381 non-null   float64       \n",
      " 13  quarterly_rating_imp  2381 non-null   int64         \n",
      " 14  income_imp            2381 non-null   int64         \n",
      " 15  Target                2381 non-null   int32         \n",
      "dtypes: datetime64[ns](3), float64(8), int32(1), int64(2), object(2)\n",
      "memory usage: 288.4+ KB\n"
     ]
    }
   ],
   "source": [
    "df_grouped.info()"
   ]
  },
  {
   "cell_type": "code",
   "execution_count": 41,
   "id": "1c40def2",
   "metadata": {},
   "outputs": [],
   "source": [
    "#Data type conversions\n",
    "\n",
    "df_grouped['Gender']=df_grouped['Gender'].astype('str')\n",
    "df_grouped['Education_Level']=df_grouped['Education_Level'].astype('str')\n",
    "df_grouped['Joining Designation']=df_grouped['Joining Designation'].astype('str')\n",
    "df_grouped['Grade']=df_grouped['Grade'].astype('str')\n",
    "df_grouped['Quarterly Rating']=df_grouped['Quarterly Rating'].astype('str')\n",
    "df_grouped['quarterly_rating_imp']=df_grouped['quarterly_rating_imp'].astype('str')\n",
    "df_grouped['income_imp']=df_grouped['income_imp'].astype('str')"
   ]
  },
  {
   "cell_type": "code",
   "execution_count": 42,
   "id": "6fdb410c",
   "metadata": {},
   "outputs": [
    {
     "data": {
      "image/png": "[encoded data removed]",
      "text/plain": [
       "<Figure size 1500x2000 with 3 Axes>"
      ]
     },
     "metadata": {},
     "output_type": "display_data"
    }
   ],
   "source": [
    "#Select the columns where no of unique values are more than 10 \n",
    "#assuming that those having less than 10 will behave like a categorical data\n",
    "\n",
    "cols_=[]\n",
    "for i in df_grouped.select_dtypes(exclude=['datetime64[ns]','object']).columns:\n",
    "    if df_grouped[i].nunique()>=5:\n",
    "        cols_.append(i)  \n",
    "\n",
    "# Box plots of columns\n",
    "\n",
    "plt.figure(figsize=(15, 20))\n",
    "\n",
    "for i in range(1,len(cols_)+1):\n",
    "    plt.subplot(4, 3, i)\n",
    "    sns.boxplot(x=cols_[i-1], data=df_grouped)\n"
   ]
  },
  {
   "cell_type": "markdown",
   "id": "25745dbb",
   "metadata": {},
   "source": [
    "There are outliers present"
   ]
  },
  {
   "cell_type": "code",
   "execution_count": 43,
   "id": "2995051c",
   "metadata": {},
   "outputs": [
    {
     "data": {
      "image/png": "[encoded data removed]",
      "text/plain": [
       "<Figure size 1200x800 with 2 Axes>"
      ]
     },
     "metadata": {},
     "output_type": "display_data"
    }
   ],
   "source": [
    "#Correlation heatmap\n",
    "\n",
    "plt.figure(figsize=(12, 8))\n",
    "sns.heatmap(df_grouped.corr(method='spearman'), annot=True, cmap='viridis')\n",
    "plt.show()"
   ]
  },
  {
   "cell_type": "code",
   "execution_count": 44,
   "id": "3923da22",
   "metadata": {
    "scrolled": true
   },
   "outputs": [
    {
     "data": {
      "image/png": "[encoded data removed]",
      "text/plain": [
       "<Figure size 1500x1500 with 5 Axes>"
      ]
     },
     "metadata": {},
     "output_type": "display_data"
    }
   ],
   "source": [
    "# term / home ownership / verification status / purpose vs loan_status\n",
    "\n",
    "plt.figure(figsize=(15, 15))\n",
    "\n",
    "plt.subplot(5, 3, 1)\n",
    "sns.countplot(x='Gender', data=df_grouped, hue='Target')\n",
    "\n",
    "plt.subplot(5, 3, 2)\n",
    "g = sns.countplot(x='Education_Level', data=df_grouped, hue='Target')\n",
    "g.set_xticklabels(g.get_xticklabels(), rotation=90);\n",
    "\n",
    "plt.subplot(5, 3, 3)\n",
    "g = sns.countplot(x='Quarterly Rating', data=df_grouped, hue='Target')\n",
    "g.set_xticklabels(g.get_xticklabels(), rotation=90);\n",
    "\n",
    "plt.subplot(5, 3, 4)\n",
    "g = sns.countplot(x='quarterly_rating_imp', data=df_grouped, hue='Target')\n",
    "g.set_xticklabels(g.get_xticklabels(), rotation=90);\n",
    "\n",
    "plt.subplot(5, 3, 5)\n",
    "g = sns.countplot(x='income_imp', data=df_grouped, hue='Target')\n",
    "g.set_xticklabels(g.get_xticklabels(), rotation=90);\n",
    "\n"
   ]
  },
  {
   "cell_type": "markdown",
   "id": "bf70f609",
   "metadata": {},
   "source": [
    "* Both females and males are having similar proportions of churn where the no of people not churned is 50% of the number of people churned\n",
    "* Education level is not playing a major role in the churn analysis. Hypothesis testing will be done to confirm the statement\n",
    "* Those with quarterly rating = 1.0 are the people who churned more\n",
    "* There are more churns when there is no improvement in the quarterly ratings & income"
   ]
  },
  {
   "cell_type": "code",
   "execution_count": 45,
   "id": "918d6090",
   "metadata": {},
   "outputs": [
    {
     "data": {
      "text/plain": [
       "Index(['Driver_ID', 'MMM-YY', 'Age', 'Gender', 'City', 'Education_Level',\n",
       "       'Income', 'Dateofjoining', 'LastWorkingDate', 'Joining Designation',\n",
       "       'Grade', 'Total Business Value', 'Quarterly Rating',\n",
       "       'quarterly_rating_imp', 'income_imp', 'Target'],\n",
       "      dtype='object')"
      ]
     },
     "execution_count": 45,
     "metadata": {},
     "output_type": "execute_result"
    }
   ],
   "source": [
    "df_grouped.columns"
   ]
  },
  {
   "cell_type": "markdown",
   "id": "b0567853",
   "metadata": {},
   "source": [
    "### DATA PREPROCESSING"
   ]
  },
  {
   "cell_type": "code",
   "execution_count": 46,
   "id": "a4b93385",
   "metadata": {},
   "outputs": [],
   "source": [
    "#Keeping a copy of the grouped dataset and all the preprocessing will be done in the copied dataset\n",
    "\n",
    "df_pro = df_grouped.copy()"
   ]
  },
  {
   "cell_type": "markdown",
   "id": "88a76db3",
   "metadata": {},
   "source": [
    "**Update driver_id, MMM-YY column**"
   ]
  },
  {
   "cell_type": "markdown",
   "id": "b57555d6",
   "metadata": {},
   "source": [
    "'Driver_id' and 'MMM-YY' columns are removed since it doesnt add any value in the model"
   ]
  },
  {
   "cell_type": "code",
   "execution_count": 47,
   "id": "18e365b6",
   "metadata": {},
   "outputs": [],
   "source": [
    "df_pro.drop(['Driver_ID','MMM-YY'],axis=1,inplace=True)"
   ]
  },
  {
   "cell_type": "markdown",
   "id": "15312fcf",
   "metadata": {},
   "source": [
    "**Update Age column**"
   ]
  },
  {
   "cell_type": "code",
   "execution_count": 48,
   "id": "64005465",
   "metadata": {},
   "outputs": [
    {
     "data": {
      "text/plain": [
       "32.0    167\n",
       "34.0    167\n",
       "31.0    165\n",
       "30.0    158\n",
       "33.0    151\n",
       "Name: Age, dtype: int64"
      ]
     },
     "execution_count": 48,
     "metadata": {},
     "output_type": "execute_result"
    }
   ],
   "source": [
    "df_pro['Age'].value_counts().head()"
   ]
  },
  {
   "cell_type": "code",
   "execution_count": 49,
   "id": "7b9c840a",
   "metadata": {},
   "outputs": [
    {
     "name": "stdout",
     "output_type": "stream",
     "text": [
      "The feature is significant\n",
      "8.126795311026695e-05\n"
     ]
    }
   ],
   "source": [
    "# Hypothesis testing ( t-test ) to check statistical significance of Age on predicting the target feature\n",
    "\n",
    "a=df_pro[df_pro['Target']==0]['Age']\n",
    "b=df_pro[df_pro['Target']==1]['Age']\n",
    "\n",
    "t_stat,p_val = ttest_ind(a,b)\n",
    "\n",
    "if p_val<0.05:\n",
    "    print('The feature is significant')\n",
    "    print(p_val)\n",
    "else:\n",
    "    print('The feature is not significant')\n",
    "    print(p_val)"
   ]
  },
  {
   "cell_type": "markdown",
   "id": "781dc3a7",
   "metadata": {},
   "source": [
    "**Update Gender column**"
   ]
  },
  {
   "cell_type": "code",
   "execution_count": 50,
   "id": "15e519ea",
   "metadata": {},
   "outputs": [
    {
     "data": {
      "text/plain": [
       "0.0    1403\n",
       "1.0     978\n",
       "Name: Gender, dtype: int64"
      ]
     },
     "execution_count": 50,
     "metadata": {},
     "output_type": "execute_result"
    }
   ],
   "source": [
    "df_pro['Gender'].value_counts()"
   ]
  },
  {
   "cell_type": "code",
   "execution_count": 51,
   "id": "13ad0785",
   "metadata": {},
   "outputs": [
    {
     "data": {
      "text/html": [
       "<div>\n",
       "<style scoped>\n",
       "    .dataframe tbody tr th:only-of-type {\n",
       "        vertical-align: middle;\n",
       "    }\n",
       "\n",
       "    .dataframe tbody tr th {\n",
       "        vertical-align: top;\n",
       "    }\n",
       "\n",
       "    .dataframe thead th {\n",
       "        text-align: right;\n",
       "    }\n",
       "</style>\n",
       "<table border=\"1\" class=\"dataframe\">\n",
       "  <thead>\n",
       "    <tr style=\"text-align: right;\">\n",
       "      <th>Target</th>\n",
       "      <th>0</th>\n",
       "      <th>1</th>\n",
       "    </tr>\n",
       "    <tr>\n",
       "      <th>Gender</th>\n",
       "      <th></th>\n",
       "      <th></th>\n",
       "    </tr>\n",
       "  </thead>\n",
       "  <tbody>\n",
       "    <tr>\n",
       "      <th>0.0</th>\n",
       "      <td>455</td>\n",
       "      <td>948</td>\n",
       "    </tr>\n",
       "    <tr>\n",
       "      <th>1.0</th>\n",
       "      <td>310</td>\n",
       "      <td>668</td>\n",
       "    </tr>\n",
       "  </tbody>\n",
       "</table>\n",
       "</div>"
      ],
      "text/plain": [
       "Target    0    1\n",
       "Gender          \n",
       "0.0     455  948\n",
       "1.0     310  668"
      ]
     },
     "execution_count": 51,
     "metadata": {},
     "output_type": "execute_result"
    }
   ],
   "source": [
    "#crosstab for hypothesis testing ( Chisquare )\n",
    "\n",
    "b=pd.crosstab(index=df_pro['Gender'],columns=df_pro['Target'])\n",
    "b"
   ]
  },
  {
   "cell_type": "code",
   "execution_count": 52,
   "id": "98379936",
   "metadata": {},
   "outputs": [
    {
     "name": "stdout",
     "output_type": "stream",
     "text": [
      "The feature is not significant\n",
      "0.7396634124788158\n"
     ]
    }
   ],
   "source": [
    "#Chisquare test\n",
    "\n",
    "chi_stat,p_val,dof,expected_val=chi2_contingency(b)\n",
    "\n",
    "if p_val<0.05:\n",
    "    print('The feature is significant')\n",
    "    print(p_val)\n",
    "else:\n",
    "    print('The feature is not significant')\n",
    "    print(p_val)"
   ]
  },
  {
   "cell_type": "code",
   "execution_count": 53,
   "id": "2726b350",
   "metadata": {},
   "outputs": [],
   "source": [
    "# Gender column is removed since it is not statistically significant\n",
    "\n",
    "df_pro.drop('Gender',axis=1,inplace=True)"
   ]
  },
  {
   "cell_type": "markdown",
   "id": "41f84163",
   "metadata": {},
   "source": [
    "#Perform onehotencoding\n",
    "\n",
    "df = pd.get_dummies(df, columns=['grade'], drop_first=True)"
   ]
  },
  {
   "cell_type": "markdown",
   "id": "d79741c2",
   "metadata": {},
   "source": [
    "**Update City column**"
   ]
  },
  {
   "cell_type": "code",
   "execution_count": 54,
   "id": "81b7d4cd",
   "metadata": {},
   "outputs": [
    {
     "data": {
      "text/plain": [
       "C20    152\n",
       "C15    101\n",
       "C29     96\n",
       "C26     93\n",
       "C8      89\n",
       "Name: City, dtype: int64"
      ]
     },
     "execution_count": 54,
     "metadata": {},
     "output_type": "execute_result"
    }
   ],
   "source": [
    "df_pro['City'].value_counts().head()"
   ]
  },
  {
   "cell_type": "code",
   "execution_count": 55,
   "id": "3fb0c5dc",
   "metadata": {},
   "outputs": [
    {
     "data": {
      "text/plain": [
       "29"
      ]
     },
     "execution_count": 55,
     "metadata": {},
     "output_type": "execute_result"
    }
   ],
   "source": [
    "df_pro['City'].nunique()"
   ]
  },
  {
   "cell_type": "code",
   "execution_count": 56,
   "id": "a0a817e8",
   "metadata": {},
   "outputs": [
    {
     "data": {
      "text/html": [
       "<div>\n",
       "<style scoped>\n",
       "    .dataframe tbody tr th:only-of-type {\n",
       "        vertical-align: middle;\n",
       "    }\n",
       "\n",
       "    .dataframe tbody tr th {\n",
       "        vertical-align: top;\n",
       "    }\n",
       "\n",
       "    .dataframe thead th {\n",
       "        text-align: right;\n",
       "    }\n",
       "</style>\n",
       "<table border=\"1\" class=\"dataframe\">\n",
       "  <thead>\n",
       "    <tr style=\"text-align: right;\">\n",
       "      <th>Target</th>\n",
       "      <th>0</th>\n",
       "      <th>1</th>\n",
       "    </tr>\n",
       "    <tr>\n",
       "      <th>City</th>\n",
       "      <th></th>\n",
       "      <th></th>\n",
       "    </tr>\n",
       "  </thead>\n",
       "  <tbody>\n",
       "    <tr>\n",
       "      <th>C1</th>\n",
       "      <td>24</td>\n",
       "      <td>56</td>\n",
       "    </tr>\n",
       "    <tr>\n",
       "      <th>C10</th>\n",
       "      <td>25</td>\n",
       "      <td>61</td>\n",
       "    </tr>\n",
       "    <tr>\n",
       "      <th>C11</th>\n",
       "      <td>19</td>\n",
       "      <td>45</td>\n",
       "    </tr>\n",
       "    <tr>\n",
       "      <th>C12</th>\n",
       "      <td>28</td>\n",
       "      <td>53</td>\n",
       "    </tr>\n",
       "    <tr>\n",
       "      <th>C13</th>\n",
       "      <td>13</td>\n",
       "      <td>58</td>\n",
       "    </tr>\n",
       "    <tr>\n",
       "      <th>C14</th>\n",
       "      <td>21</td>\n",
       "      <td>58</td>\n",
       "    </tr>\n",
       "    <tr>\n",
       "      <th>C15</th>\n",
       "      <td>32</td>\n",
       "      <td>69</td>\n",
       "    </tr>\n",
       "    <tr>\n",
       "      <th>C16</th>\n",
       "      <td>34</td>\n",
       "      <td>50</td>\n",
       "    </tr>\n",
       "    <tr>\n",
       "      <th>C17</th>\n",
       "      <td>16</td>\n",
       "      <td>55</td>\n",
       "    </tr>\n",
       "    <tr>\n",
       "      <th>C18</th>\n",
       "      <td>25</td>\n",
       "      <td>44</td>\n",
       "    </tr>\n",
       "    <tr>\n",
       "      <th>C19</th>\n",
       "      <td>31</td>\n",
       "      <td>41</td>\n",
       "    </tr>\n",
       "    <tr>\n",
       "      <th>C2</th>\n",
       "      <td>17</td>\n",
       "      <td>55</td>\n",
       "    </tr>\n",
       "    <tr>\n",
       "      <th>C20</th>\n",
       "      <td>41</td>\n",
       "      <td>111</td>\n",
       "    </tr>\n",
       "    <tr>\n",
       "      <th>C21</th>\n",
       "      <td>31</td>\n",
       "      <td>48</td>\n",
       "    </tr>\n",
       "    <tr>\n",
       "      <th>C22</th>\n",
       "      <td>32</td>\n",
       "      <td>50</td>\n",
       "    </tr>\n",
       "    <tr>\n",
       "      <th>C23</th>\n",
       "      <td>17</td>\n",
       "      <td>57</td>\n",
       "    </tr>\n",
       "    <tr>\n",
       "      <th>C24</th>\n",
       "      <td>22</td>\n",
       "      <td>51</td>\n",
       "    </tr>\n",
       "    <tr>\n",
       "      <th>C25</th>\n",
       "      <td>20</td>\n",
       "      <td>54</td>\n",
       "    </tr>\n",
       "    <tr>\n",
       "      <th>C26</th>\n",
       "      <td>28</td>\n",
       "      <td>65</td>\n",
       "    </tr>\n",
       "    <tr>\n",
       "      <th>C27</th>\n",
       "      <td>29</td>\n",
       "      <td>60</td>\n",
       "    </tr>\n",
       "    <tr>\n",
       "      <th>C28</th>\n",
       "      <td>23</td>\n",
       "      <td>59</td>\n",
       "    </tr>\n",
       "    <tr>\n",
       "      <th>C29</th>\n",
       "      <td>45</td>\n",
       "      <td>51</td>\n",
       "    </tr>\n",
       "    <tr>\n",
       "      <th>C3</th>\n",
       "      <td>30</td>\n",
       "      <td>52</td>\n",
       "    </tr>\n",
       "    <tr>\n",
       "      <th>C4</th>\n",
       "      <td>25</td>\n",
       "      <td>52</td>\n",
       "    </tr>\n",
       "    <tr>\n",
       "      <th>C5</th>\n",
       "      <td>32</td>\n",
       "      <td>48</td>\n",
       "    </tr>\n",
       "    <tr>\n",
       "      <th>C6</th>\n",
       "      <td>23</td>\n",
       "      <td>55</td>\n",
       "    </tr>\n",
       "    <tr>\n",
       "      <th>C7</th>\n",
       "      <td>24</td>\n",
       "      <td>52</td>\n",
       "    </tr>\n",
       "    <tr>\n",
       "      <th>C8</th>\n",
       "      <td>36</td>\n",
       "      <td>53</td>\n",
       "    </tr>\n",
       "    <tr>\n",
       "      <th>C9</th>\n",
       "      <td>22</td>\n",
       "      <td>53</td>\n",
       "    </tr>\n",
       "  </tbody>\n",
       "</table>\n",
       "</div>"
      ],
      "text/plain": [
       "Target   0    1\n",
       "City           \n",
       "C1      24   56\n",
       "C10     25   61\n",
       "C11     19   45\n",
       "C12     28   53\n",
       "C13     13   58\n",
       "C14     21   58\n",
       "C15     32   69\n",
       "C16     34   50\n",
       "C17     16   55\n",
       "C18     25   44\n",
       "C19     31   41\n",
       "C2      17   55\n",
       "C20     41  111\n",
       "C21     31   48\n",
       "C22     32   50\n",
       "C23     17   57\n",
       "C24     22   51\n",
       "C25     20   54\n",
       "C26     28   65\n",
       "C27     29   60\n",
       "C28     23   59\n",
       "C29     45   51\n",
       "C3      30   52\n",
       "C4      25   52\n",
       "C5      32   48\n",
       "C6      23   55\n",
       "C7      24   52\n",
       "C8      36   53\n",
       "C9      22   53"
      ]
     },
     "execution_count": 56,
     "metadata": {},
     "output_type": "execute_result"
    }
   ],
   "source": [
    "#crosstab for hypothesis testing ( Chisquare )\n",
    "\n",
    "c=pd.crosstab(index=df_pro['City'],columns=df_pro['Target'])\n",
    "c"
   ]
  },
  {
   "cell_type": "code",
   "execution_count": 57,
   "id": "fdbb6049",
   "metadata": {},
   "outputs": [
    {
     "name": "stdout",
     "output_type": "stream",
     "text": [
      "The feature is significant\n",
      "0.013977549937173567\n"
     ]
    }
   ],
   "source": [
    "#Chisquare test\n",
    "\n",
    "chi_stat,p_val,dof,expected_val=chi2_contingency(c)\n",
    "\n",
    "if p_val<0.05:\n",
    "    print('The feature is significant')\n",
    "    print(p_val)\n",
    "else:\n",
    "    print('The feature is not significant')\n",
    "    print(p_val)"
   ]
  },
  {
   "cell_type": "markdown",
   "id": "b4de6c63",
   "metadata": {},
   "source": [
    "tar = TargetEncoder()\n",
    "df_pro['City'] = tar.fit_transform(df_pro['City'],df_pro['Target'])"
   ]
  },
  {
   "cell_type": "markdown",
   "id": "71d6e184",
   "metadata": {},
   "source": [
    "**Update Education_Level column**"
   ]
  },
  {
   "cell_type": "code",
   "execution_count": 58,
   "id": "a124277f",
   "metadata": {},
   "outputs": [
    {
     "data": {
      "text/plain": [
       "2.0    802\n",
       "1.0    795\n",
       "0.0    784\n",
       "Name: Education_Level, dtype: int64"
      ]
     },
     "execution_count": 58,
     "metadata": {},
     "output_type": "execute_result"
    }
   ],
   "source": [
    "df_pro['Education_Level'].value_counts()"
   ]
  },
  {
   "cell_type": "code",
   "execution_count": 59,
   "id": "5446c018",
   "metadata": {},
   "outputs": [
    {
     "data": {
      "text/html": [
       "<div>\n",
       "<style scoped>\n",
       "    .dataframe tbody tr th:only-of-type {\n",
       "        vertical-align: middle;\n",
       "    }\n",
       "\n",
       "    .dataframe tbody tr th {\n",
       "        vertical-align: top;\n",
       "    }\n",
       "\n",
       "    .dataframe thead th {\n",
       "        text-align: right;\n",
       "    }\n",
       "</style>\n",
       "<table border=\"1\" class=\"dataframe\">\n",
       "  <thead>\n",
       "    <tr style=\"text-align: right;\">\n",
       "      <th>Target</th>\n",
       "      <th>0</th>\n",
       "      <th>1</th>\n",
       "    </tr>\n",
       "    <tr>\n",
       "      <th>Education_Level</th>\n",
       "      <th></th>\n",
       "      <th></th>\n",
       "    </tr>\n",
       "  </thead>\n",
       "  <tbody>\n",
       "    <tr>\n",
       "      <th>0.0</th>\n",
       "      <td>242</td>\n",
       "      <td>542</td>\n",
       "    </tr>\n",
       "    <tr>\n",
       "      <th>1.0</th>\n",
       "      <td>268</td>\n",
       "      <td>527</td>\n",
       "    </tr>\n",
       "    <tr>\n",
       "      <th>2.0</th>\n",
       "      <td>255</td>\n",
       "      <td>547</td>\n",
       "    </tr>\n",
       "  </tbody>\n",
       "</table>\n",
       "</div>"
      ],
      "text/plain": [
       "Target             0    1\n",
       "Education_Level          \n",
       "0.0              242  542\n",
       "1.0              268  527\n",
       "2.0              255  547"
      ]
     },
     "execution_count": 59,
     "metadata": {},
     "output_type": "execute_result"
    }
   ],
   "source": [
    "#crosstab for hypothesis testing ( Chisquare )\n",
    "\n",
    "d=pd.crosstab(index=df_pro['Education_Level'],columns=df_pro['Target'])\n",
    "d"
   ]
  },
  {
   "cell_type": "code",
   "execution_count": 60,
   "id": "cb4b46ce",
   "metadata": {},
   "outputs": [
    {
     "name": "stdout",
     "output_type": "stream",
     "text": [
      "The feature is not significant\n",
      "0.46643939521309963\n"
     ]
    }
   ],
   "source": [
    "#Chisquare test\n",
    "\n",
    "chi_stat,p_val,dof,expected_val=chi2_contingency(d)\n",
    "\n",
    "if p_val<0.05:\n",
    "    print('The feature is significant')\n",
    "    print(p_val)\n",
    "else:\n",
    "    print('The feature is not significant')\n",
    "    print(p_val)"
   ]
  },
  {
   "cell_type": "code",
   "execution_count": 61,
   "id": "92dda755",
   "metadata": {},
   "outputs": [],
   "source": [
    "# Education_level column is removed since it is not statistically significant\n",
    "\n",
    "df_pro.drop('Education_Level',axis=1,inplace=True)"
   ]
  },
  {
   "cell_type": "markdown",
   "id": "1b6287a7",
   "metadata": {},
   "source": [
    "**Update Income column**"
   ]
  },
  {
   "cell_type": "code",
   "execution_count": 62,
   "id": "f11badef",
   "metadata": {},
   "outputs": [
    {
     "data": {
      "text/plain": [
       "48747.0    3\n",
       "59644.0    2\n",
       "12456.0    2\n",
       "41591.0    2\n",
       "19072.0    2\n",
       "Name: Income, dtype: int64"
      ]
     },
     "execution_count": 62,
     "metadata": {},
     "output_type": "execute_result"
    }
   ],
   "source": [
    "df_pro['Income'].value_counts().head()"
   ]
  },
  {
   "cell_type": "code",
   "execution_count": 63,
   "id": "f3a3ce94",
   "metadata": {},
   "outputs": [
    {
     "name": "stdout",
     "output_type": "stream",
     "text": [
      "The feature is significant\n",
      "2.495387415200701e-23\n"
     ]
    }
   ],
   "source": [
    "# Hypothesis testing ( t-test ) to check statistical significance of Income on predicting the target feature\n",
    "\n",
    "a=df_pro[df_pro['Target']==0]['Income']\n",
    "b=df_pro[df_pro['Target']==1]['Income']\n",
    "\n",
    "t_stat,p_val = ttest_ind(a,b)\n",
    "\n",
    "if p_val<0.05:\n",
    "    print('The feature is significant')\n",
    "    print(p_val)\n",
    "else:\n",
    "    print('The feature is not significant')\n",
    "    print(p_val)"
   ]
  },
  {
   "cell_type": "markdown",
   "id": "e711d4c7",
   "metadata": {},
   "source": [
    "**Update Dateofjoining column**"
   ]
  },
  {
   "cell_type": "code",
   "execution_count": 64,
   "id": "abdc3e73",
   "metadata": {},
   "outputs": [
    {
     "data": {
      "text/plain": [
       "2020-07-31    31\n",
       "2020-09-28    30\n",
       "2020-05-29    20\n",
       "2019-10-31    18\n",
       "2020-05-01    17\n",
       "              ..\n",
       "2018-02-19     1\n",
       "2016-06-03     1\n",
       "2017-11-26     1\n",
       "2019-04-07     1\n",
       "2017-10-21     1\n",
       "Name: Dateofjoining, Length: 869, dtype: int64"
      ]
     },
     "execution_count": 64,
     "metadata": {},
     "output_type": "execute_result"
    }
   ],
   "source": [
    "df_pro['Dateofjoining'].value_counts()"
   ]
  },
  {
   "cell_type": "code",
   "execution_count": 65,
   "id": "a44facac",
   "metadata": {},
   "outputs": [],
   "source": [
    "# Only month values are taken for modelling\n",
    "\n",
    "df_pro['monthofjoining'] = df_pro['Dateofjoining'].dt.month\n",
    "df_pro['monthofjoining']=df_pro['monthofjoining'].astype('str')\n",
    "\n",
    "# Remove Dateofjoining column\n",
    "\n",
    "df_pro.drop(['Dateofjoining'],axis=1,inplace=True)"
   ]
  },
  {
   "cell_type": "code",
   "execution_count": 66,
   "id": "1b98c937",
   "metadata": {},
   "outputs": [
    {
     "data": {
      "text/html": [
       "<div>\n",
       "<style scoped>\n",
       "    .dataframe tbody tr th:only-of-type {\n",
       "        vertical-align: middle;\n",
       "    }\n",
       "\n",
       "    .dataframe tbody tr th {\n",
       "        vertical-align: top;\n",
       "    }\n",
       "\n",
       "    .dataframe thead th {\n",
       "        text-align: right;\n",
       "    }\n",
       "</style>\n",
       "<table border=\"1\" class=\"dataframe\">\n",
       "  <thead>\n",
       "    <tr style=\"text-align: right;\">\n",
       "      <th>Target</th>\n",
       "      <th>0</th>\n",
       "      <th>1</th>\n",
       "    </tr>\n",
       "    <tr>\n",
       "      <th>monthofjoining</th>\n",
       "      <th></th>\n",
       "      <th></th>\n",
       "    </tr>\n",
       "  </thead>\n",
       "  <tbody>\n",
       "    <tr>\n",
       "      <th>1</th>\n",
       "      <td>32</td>\n",
       "      <td>132</td>\n",
       "    </tr>\n",
       "    <tr>\n",
       "      <th>10</th>\n",
       "      <td>87</td>\n",
       "      <td>182</td>\n",
       "    </tr>\n",
       "    <tr>\n",
       "      <th>11</th>\n",
       "      <td>100</td>\n",
       "      <td>153</td>\n",
       "    </tr>\n",
       "    <tr>\n",
       "      <th>12</th>\n",
       "      <td>88</td>\n",
       "      <td>122</td>\n",
       "    </tr>\n",
       "    <tr>\n",
       "      <th>2</th>\n",
       "      <td>18</td>\n",
       "      <td>58</td>\n",
       "    </tr>\n",
       "    <tr>\n",
       "      <th>3</th>\n",
       "      <td>9</td>\n",
       "      <td>48</td>\n",
       "    </tr>\n",
       "    <tr>\n",
       "      <th>4</th>\n",
       "      <td>34</td>\n",
       "      <td>70</td>\n",
       "    </tr>\n",
       "    <tr>\n",
       "      <th>5</th>\n",
       "      <td>69</td>\n",
       "      <td>207</td>\n",
       "    </tr>\n",
       "    <tr>\n",
       "      <th>6</th>\n",
       "      <td>57</td>\n",
       "      <td>173</td>\n",
       "    </tr>\n",
       "    <tr>\n",
       "      <th>7</th>\n",
       "      <td>104</td>\n",
       "      <td>192</td>\n",
       "    </tr>\n",
       "    <tr>\n",
       "      <th>8</th>\n",
       "      <td>76</td>\n",
       "      <td>148</td>\n",
       "    </tr>\n",
       "    <tr>\n",
       "      <th>9</th>\n",
       "      <td>91</td>\n",
       "      <td>131</td>\n",
       "    </tr>\n",
       "  </tbody>\n",
       "</table>\n",
       "</div>"
      ],
      "text/plain": [
       "Target            0    1\n",
       "monthofjoining          \n",
       "1                32  132\n",
       "10               87  182\n",
       "11              100  153\n",
       "12               88  122\n",
       "2                18   58\n",
       "3                 9   48\n",
       "4                34   70\n",
       "5                69  207\n",
       "6                57  173\n",
       "7               104  192\n",
       "8                76  148\n",
       "9                91  131"
      ]
     },
     "execution_count": 66,
     "metadata": {},
     "output_type": "execute_result"
    }
   ],
   "source": [
    "#crosstab for hypothesis testing ( Chisquare )\n",
    "\n",
    "d=pd.crosstab(index=df_pro['monthofjoining'],columns=df_pro['Target'])\n",
    "d"
   ]
  },
  {
   "cell_type": "code",
   "execution_count": 67,
   "id": "d1f38fdd",
   "metadata": {},
   "outputs": [
    {
     "name": "stdout",
     "output_type": "stream",
     "text": [
      "The feature is significant\n",
      "1.6242862540266907e-08\n"
     ]
    }
   ],
   "source": [
    "#Chisquare test\n",
    "\n",
    "chi_stat,p_val,dof,expected_val=chi2_contingency(d)\n",
    "\n",
    "if p_val<0.05:\n",
    "    print('The feature is significant')\n",
    "    print(p_val)\n",
    "else:\n",
    "    print('The feature is not significant')\n",
    "    print(p_val)"
   ]
  },
  {
   "cell_type": "markdown",
   "id": "94c77fba",
   "metadata": {},
   "source": [
    "tar = TargetEncoder()\n",
    "df_pro['monthofjoining'] = tar.fit_transform(df_pro['monthofjoining'],df_pro['Target'])"
   ]
  },
  {
   "cell_type": "markdown",
   "id": "8202aa85",
   "metadata": {},
   "source": [
    "**Update LastWorkingDate column**"
   ]
  },
  {
   "cell_type": "markdown",
   "id": "3095cc45",
   "metadata": {},
   "source": [
    "LastWorkingDate column is removed since it doesnt add any value in the model and target feature is already created based on Lastworkingdate column"
   ]
  },
  {
   "cell_type": "code",
   "execution_count": 68,
   "id": "b326af64",
   "metadata": {},
   "outputs": [],
   "source": [
    "df_pro.drop(['LastWorkingDate'],axis=1,inplace=True)"
   ]
  },
  {
   "cell_type": "markdown",
   "id": "d7c76132",
   "metadata": {},
   "source": [
    "**Update Joining Designation column**"
   ]
  },
  {
   "cell_type": "code",
   "execution_count": 69,
   "id": "db993e58",
   "metadata": {},
   "outputs": [
    {
     "data": {
      "text/plain": [
       "1.0    1026\n",
       "2.0     815\n",
       "3.0     493\n",
       "4.0      36\n",
       "5.0      11\n",
       "Name: Joining Designation, dtype: int64"
      ]
     },
     "execution_count": 69,
     "metadata": {},
     "output_type": "execute_result"
    }
   ],
   "source": [
    "df_pro['Joining Designation'].value_counts()"
   ]
  },
  {
   "cell_type": "code",
   "execution_count": 70,
   "id": "e01ca2f4",
   "metadata": {},
   "outputs": [
    {
     "data": {
      "text/html": [
       "<div>\n",
       "<style scoped>\n",
       "    .dataframe tbody tr th:only-of-type {\n",
       "        vertical-align: middle;\n",
       "    }\n",
       "\n",
       "    .dataframe tbody tr th {\n",
       "        vertical-align: top;\n",
       "    }\n",
       "\n",
       "    .dataframe thead th {\n",
       "        text-align: right;\n",
       "    }\n",
       "</style>\n",
       "<table border=\"1\" class=\"dataframe\">\n",
       "  <thead>\n",
       "    <tr style=\"text-align: right;\">\n",
       "      <th>Target</th>\n",
       "      <th>0</th>\n",
       "      <th>1</th>\n",
       "    </tr>\n",
       "    <tr>\n",
       "      <th>Joining Designation</th>\n",
       "      <th></th>\n",
       "      <th></th>\n",
       "    </tr>\n",
       "  </thead>\n",
       "  <tbody>\n",
       "    <tr>\n",
       "      <th>1.0</th>\n",
       "      <td>274</td>\n",
       "      <td>752</td>\n",
       "    </tr>\n",
       "    <tr>\n",
       "      <th>2.0</th>\n",
       "      <td>255</td>\n",
       "      <td>560</td>\n",
       "    </tr>\n",
       "    <tr>\n",
       "      <th>3.0</th>\n",
       "      <td>219</td>\n",
       "      <td>274</td>\n",
       "    </tr>\n",
       "    <tr>\n",
       "      <th>4.0</th>\n",
       "      <td>14</td>\n",
       "      <td>22</td>\n",
       "    </tr>\n",
       "    <tr>\n",
       "      <th>5.0</th>\n",
       "      <td>3</td>\n",
       "      <td>8</td>\n",
       "    </tr>\n",
       "  </tbody>\n",
       "</table>\n",
       "</div>"
      ],
      "text/plain": [
       "Target                 0    1\n",
       "Joining Designation          \n",
       "1.0                  274  752\n",
       "2.0                  255  560\n",
       "3.0                  219  274\n",
       "4.0                   14   22\n",
       "5.0                    3    8"
      ]
     },
     "execution_count": 70,
     "metadata": {},
     "output_type": "execute_result"
    }
   ],
   "source": [
    "#crosstab for hypothesis testing ( Chisquare )\n",
    "\n",
    "d=pd.crosstab(index=df_pro['Joining Designation'],columns=df_pro['Target'])\n",
    "d"
   ]
  },
  {
   "cell_type": "code",
   "execution_count": 71,
   "id": "5f8c4837",
   "metadata": {},
   "outputs": [
    {
     "name": "stdout",
     "output_type": "stream",
     "text": [
      "The feature is significant\n",
      "5.457615375535053e-10\n"
     ]
    }
   ],
   "source": [
    "#Chisquare test\n",
    "\n",
    "chi_stat,p_val,dof,expected_val=chi2_contingency(d)\n",
    "\n",
    "if p_val<0.05:\n",
    "    print('The feature is significant')\n",
    "    print(p_val)\n",
    "else:\n",
    "    print('The feature is not significant')\n",
    "    print(p_val)"
   ]
  },
  {
   "cell_type": "markdown",
   "id": "f71bdcd4",
   "metadata": {},
   "source": [
    "#Perform onehotencoding\n",
    "\n",
    "df_pro = pd.get_dummies(df_pro, columns=['Joining Designation'], drop_first=True)"
   ]
  },
  {
   "cell_type": "markdown",
   "id": "118a9fae",
   "metadata": {},
   "source": [
    "**Update Grade column**"
   ]
  },
  {
   "cell_type": "code",
   "execution_count": 72,
   "id": "3b622738",
   "metadata": {},
   "outputs": [
    {
     "data": {
      "text/plain": [
       "2.0    855\n",
       "1.0    741\n",
       "3.0    623\n",
       "4.0    138\n",
       "5.0     24\n",
       "Name: Grade, dtype: int64"
      ]
     },
     "execution_count": 72,
     "metadata": {},
     "output_type": "execute_result"
    }
   ],
   "source": [
    "df_pro['Grade'].value_counts()"
   ]
  },
  {
   "cell_type": "code",
   "execution_count": 73,
   "id": "72f4f256",
   "metadata": {},
   "outputs": [
    {
     "name": "stdout",
     "output_type": "stream",
     "text": [
      "The feature is significant\n",
      "2.8955519930847994e-27\n"
     ]
    }
   ],
   "source": [
    "#crosstab for hypothesis testing ( Chisquare )\n",
    "\n",
    "d=pd.crosstab(index=df_pro['Grade'],columns=df_pro['Target'])\n",
    "\n",
    "#Chisquare test\n",
    "\n",
    "chi_stat,p_val,dof,expected_val=chi2_contingency(d)\n",
    "\n",
    "if p_val<0.05:\n",
    "    print('The feature is significant')\n",
    "    print(p_val)\n",
    "else:\n",
    "    print('The feature is not significant')\n",
    "    print(p_val)"
   ]
  },
  {
   "cell_type": "markdown",
   "id": "a798ddcb",
   "metadata": {},
   "source": [
    "#Perform onehotencoding\n",
    "\n",
    "df_pro = pd.get_dummies(df_pro, columns=['Grade'], drop_first=True)"
   ]
  },
  {
   "cell_type": "markdown",
   "id": "3c817bdc",
   "metadata": {},
   "source": [
    "**Update Total Business Value column**"
   ]
  },
  {
   "cell_type": "code",
   "execution_count": 74,
   "id": "fd0a29c5",
   "metadata": {},
   "outputs": [
    {
     "data": {
      "text/plain": [
       "0.0          719\n",
       "200000.0      10\n",
       "250000.0       6\n",
       "350000.0       5\n",
       "600000.0       4\n",
       "            ... \n",
       "101980.0       1\n",
       "4169060.0      1\n",
       "2590880.0      1\n",
       "1533680.0      1\n",
       "1908000.0      1\n",
       "Name: Total Business Value, Length: 1629, dtype: int64"
      ]
     },
     "execution_count": 74,
     "metadata": {},
     "output_type": "execute_result"
    }
   ],
   "source": [
    "df_pro['Total Business Value'].value_counts()"
   ]
  },
  {
   "cell_type": "code",
   "execution_count": 75,
   "id": "92757048",
   "metadata": {},
   "outputs": [
    {
     "name": "stdout",
     "output_type": "stream",
     "text": [
      "The feature is significant\n",
      "1.8835484427348198e-82\n"
     ]
    }
   ],
   "source": [
    "# Hypothesis testing ( t-test ) to check statistical significance of Income on predicting the target feature\n",
    "\n",
    "a=df_pro[df_pro['Target']==0]['Total Business Value']\n",
    "b=df_pro[df_pro['Target']==1]['Total Business Value']\n",
    "\n",
    "t_stat,p_val = ttest_ind(a,b)\n",
    "\n",
    "if p_val<0.05:\n",
    "    print('The feature is significant')\n",
    "    print(p_val)\n",
    "else:\n",
    "    print('The feature is not significant')\n",
    "    print(p_val)"
   ]
  },
  {
   "cell_type": "markdown",
   "id": "1ff3e65a",
   "metadata": {},
   "source": [
    "**Update Quarterly Rating column**"
   ]
  },
  {
   "cell_type": "code",
   "execution_count": 76,
   "id": "edb296c4",
   "metadata": {},
   "outputs": [
    {
     "data": {
      "text/plain": [
       "1.0    1744\n",
       "2.0     362\n",
       "3.0     168\n",
       "4.0     107\n",
       "Name: Quarterly Rating, dtype: int64"
      ]
     },
     "execution_count": 76,
     "metadata": {},
     "output_type": "execute_result"
    }
   ],
   "source": [
    "df_pro['Quarterly Rating'].value_counts()"
   ]
  },
  {
   "cell_type": "code",
   "execution_count": 77,
   "id": "5a0b44e2",
   "metadata": {},
   "outputs": [
    {
     "name": "stdout",
     "output_type": "stream",
     "text": [
      "The feature is significant\n",
      "2.5289656594512383e-142\n"
     ]
    }
   ],
   "source": [
    "#crosstab for hypothesis testing ( Chisquare )\n",
    "\n",
    "d=pd.crosstab(index=df_pro['Quarterly Rating'],columns=df_pro['Target'])\n",
    "\n",
    "#Chisquare test\n",
    "\n",
    "chi_stat,p_val,dof,expected_val=chi2_contingency(d)\n",
    "\n",
    "if p_val<0.05:\n",
    "    print('The feature is significant')\n",
    "    print(p_val)\n",
    "else:\n",
    "    print('The feature is not significant')\n",
    "    print(p_val)"
   ]
  },
  {
   "cell_type": "markdown",
   "id": "e7d7cce9",
   "metadata": {},
   "source": [
    "#Perform onehotencoding\n",
    "\n",
    "df_pro = pd.get_dummies(df_pro, columns=['Quarterly Rating'], drop_first=True)"
   ]
  },
  {
   "cell_type": "markdown",
   "id": "6d55d19a",
   "metadata": {},
   "source": [
    "**Update quarterly_rating_imp column**"
   ]
  },
  {
   "cell_type": "code",
   "execution_count": 78,
   "id": "81c43323",
   "metadata": {},
   "outputs": [
    {
     "data": {
      "text/plain": [
       "0    2023\n",
       "1     358\n",
       "Name: quarterly_rating_imp, dtype: int64"
      ]
     },
     "execution_count": 78,
     "metadata": {},
     "output_type": "execute_result"
    }
   ],
   "source": [
    "df_pro['quarterly_rating_imp'].value_counts()"
   ]
  },
  {
   "cell_type": "code",
   "execution_count": 79,
   "id": "5886e5da",
   "metadata": {},
   "outputs": [
    {
     "name": "stdout",
     "output_type": "stream",
     "text": [
      "The feature is significant\n",
      "1.98105039845764e-86\n"
     ]
    }
   ],
   "source": [
    "#crosstab for hypothesis testing ( Chisquare )\n",
    "\n",
    "d=pd.crosstab(index=df_pro['quarterly_rating_imp'],columns=df_pro['Target'])\n",
    "\n",
    "#Chisquare test\n",
    "\n",
    "chi_stat,p_val,dof,expected_val=chi2_contingency(d)\n",
    "\n",
    "if p_val<0.05:\n",
    "    print('The feature is significant')\n",
    "    print(p_val)\n",
    "else:\n",
    "    print('The feature is not significant')\n",
    "    print(p_val)"
   ]
  },
  {
   "cell_type": "markdown",
   "id": "1fb868af",
   "metadata": {},
   "source": [
    "#Perform onehotencoding\n",
    "\n",
    "df_pro = pd.get_dummies(df_pro, columns=['quarterly_rating_imp'], drop_first=True)"
   ]
  },
  {
   "cell_type": "markdown",
   "id": "4e0b18a6",
   "metadata": {},
   "source": [
    "**Update income_imp column**"
   ]
  },
  {
   "cell_type": "code",
   "execution_count": 80,
   "id": "9e4f7066",
   "metadata": {},
   "outputs": [
    {
     "data": {
      "text/plain": [
       "0    2338\n",
       "1      43\n",
       "Name: income_imp, dtype: int64"
      ]
     },
     "execution_count": 80,
     "metadata": {},
     "output_type": "execute_result"
    }
   ],
   "source": [
    "df_pro['income_imp'].value_counts()"
   ]
  },
  {
   "cell_type": "code",
   "execution_count": 81,
   "id": "df9f3dfa",
   "metadata": {},
   "outputs": [
    {
     "name": "stdout",
     "output_type": "stream",
     "text": [
      "The feature is significant\n",
      "2.5729990685015372e-17\n"
     ]
    }
   ],
   "source": [
    "#crosstab for hypothesis testing ( Chisquare )\n",
    "\n",
    "d=pd.crosstab(index=df_pro['income_imp'],columns=df_pro['Target'])\n",
    "\n",
    "#Chisquare test\n",
    "\n",
    "chi_stat,p_val,dof,expected_val=chi2_contingency(d)\n",
    "\n",
    "if p_val<0.05:\n",
    "    print('The feature is significant')\n",
    "    print(p_val)\n",
    "else:\n",
    "    print('The feature is not significant')\n",
    "    print(p_val)"
   ]
  },
  {
   "cell_type": "markdown",
   "id": "ce446cc0",
   "metadata": {},
   "source": [
    "#Perform onehotencoding\n",
    "\n",
    "df_pro = pd.get_dummies(df_pro, columns=['income_imp'], drop_first=True)"
   ]
  },
  {
   "cell_type": "code",
   "execution_count": 82,
   "id": "a11f497d",
   "metadata": {},
   "outputs": [
    {
     "data": {
      "text/plain": [
       "(2381, 11)"
      ]
     },
     "execution_count": 82,
     "metadata": {},
     "output_type": "execute_result"
    }
   ],
   "source": [
    "df_pro.shape"
   ]
  },
  {
   "cell_type": "code",
   "execution_count": null,
   "id": "e7d45a2e",
   "metadata": {},
   "outputs": [],
   "source": []
  },
  {
   "cell_type": "code",
   "execution_count": null,
   "id": "9379c88a",
   "metadata": {},
   "outputs": [],
   "source": []
  },
  {
   "cell_type": "code",
   "execution_count": null,
   "id": "515a3792",
   "metadata": {},
   "outputs": [],
   "source": []
  },
  {
   "cell_type": "code",
   "execution_count": null,
   "id": "b60bc6ca",
   "metadata": {},
   "outputs": [],
   "source": []
  },
  {
   "cell_type": "code",
   "execution_count": null,
   "id": "acdc5721",
   "metadata": {},
   "outputs": [],
   "source": []
  },
  {
   "cell_type": "code",
   "execution_count": null,
   "id": "a68ac115",
   "metadata": {},
   "outputs": [],
   "source": []
  },
  {
   "cell_type": "code",
   "execution_count": null,
   "id": "2b484a31",
   "metadata": {},
   "outputs": [],
   "source": []
  },
  {
   "cell_type": "code",
   "execution_count": null,
   "id": "5df53dce",
   "metadata": {},
   "outputs": [],
   "source": []
  },
  {
   "cell_type": "markdown",
   "id": "66ff8e92",
   "metadata": {
    "id": "rRaA4CZvNAni"
   },
   "source": [
    "### DATA PREPARATION FOR MODELLING"
   ]
  },
  {
   "cell_type": "code",
   "execution_count": 402,
   "id": "5dfb9360",
   "metadata": {
    "id": "UoI6ms-r2Fgq"
   },
   "outputs": [],
   "source": [
    "X = df_pro.drop('Target', axis=1)\n",
    "y = df_pro['Target']"
   ]
  },
  {
   "cell_type": "markdown",
   "id": "b770420b",
   "metadata": {
    "id": "UfV0IKiuNAni"
   },
   "source": [
    "#### MinMaxScaler -\n",
    "\n",
    "For each value in a feature, MinMaxScaler subtracts the minimum value in the feature and then divides by the range. The range is the difference between the original maximum and original minimum.\n",
    "\n",
    "MinMaxScaler preserves the shape of the original distribution. It doesn’t meaningfully change the information embedded in the original data."
   ]
  },
  {
   "cell_type": "code",
   "execution_count": 403,
   "id": "66d93c6a",
   "metadata": {
    "id": "3knpegGX2Fkq"
   },
   "outputs": [],
   "source": [
    "scaler = MinMaxScaler()\n",
    "X_sc = scaler.fit_transform(X)"
   ]
  },
  {
   "cell_type": "code",
   "execution_count": 404,
   "id": "c5472ae2",
   "metadata": {},
   "outputs": [],
   "source": [
    "X_sc = pd.DataFrame(X_sc,columns=X.columns)"
   ]
  },
  {
   "cell_type": "code",
   "execution_count": 405,
   "id": "a85e2763",
   "metadata": {
    "id": "BQjdalnj2Fag"
   },
   "outputs": [],
   "source": [
    "X_train, X_test, y_train, y_test = train_test_split(X_sc, y, test_size=0.30,\n",
    "                                                    stratify=y, random_state=42)"
   ]
  },
  {
   "cell_type": "code",
   "execution_count": 406,
   "id": "56ef73eb",
   "metadata": {
    "colab": {
     "base_uri": "https://localhost:8080/"
    },
    "id": "o57V0RyfxcOD",
    "outputId": "a1cbf417-4ffb-40ef-dd0e-5446f7a84bdd"
   },
   "outputs": [
    {
     "name": "stdout",
     "output_type": "stream",
     "text": [
      "(1666, 18)\n",
      "(715, 18)\n"
     ]
    }
   ],
   "source": [
    "print(X_train.shape)\n",
    "print(X_test.shape)"
   ]
  },
  {
   "cell_type": "code",
   "execution_count": 407,
   "id": "114cea3a",
   "metadata": {},
   "outputs": [
    {
     "data": {
      "text/plain": [
       "1    1131\n",
       "0     535\n",
       "Name: Target, dtype: int64"
      ]
     },
     "execution_count": 407,
     "metadata": {},
     "output_type": "execute_result"
    }
   ],
   "source": [
    "y_train.value_counts()"
   ]
  },
  {
   "cell_type": "markdown",
   "id": "d5a9d169",
   "metadata": {},
   "source": [
    "### REBALANCE THE IMBALANCED DATA USING SMOTE"
   ]
  },
  {
   "cell_type": "code",
   "execution_count": 408,
   "id": "bb351489",
   "metadata": {},
   "outputs": [],
   "source": [
    "smt=SMOTE()\n",
    "X_train_sm,y_train_sm=smt.fit_resample(X_train,y_train)"
   ]
  },
  {
   "cell_type": "code",
   "execution_count": 409,
   "id": "9c959ce5",
   "metadata": {},
   "outputs": [
    {
     "data": {
      "text/plain": [
       "1    1131\n",
       "0    1131\n",
       "Name: Target, dtype: int64"
      ]
     },
     "execution_count": 409,
     "metadata": {},
     "output_type": "execute_result"
    }
   ],
   "source": [
    "y_train_sm.value_counts()"
   ]
  },
  {
   "cell_type": "markdown",
   "id": "0449149a",
   "metadata": {
    "id": "9b5qqldTwvWf"
   },
   "source": [
    "### LOGISTIC REGRESSION - BASE MODEL"
   ]
  },
  {
   "cell_type": "markdown",
   "id": "3da81a4a",
   "metadata": {},
   "source": [
    "#### MODEL FITTING"
   ]
  },
  {
   "cell_type": "code",
   "execution_count": 410,
   "id": "d9f65b69",
   "metadata": {
    "colab": {
     "base_uri": "https://localhost:8080/"
    },
    "id": "kLTZnTgF2Fm6",
    "outputId": "f183585d-0bac-4523-cb0c-3904882ecba2"
   },
   "outputs": [
    {
     "data": {
      "text/plain": [
       "LogisticRegression()"
      ]
     },
     "execution_count": 410,
     "metadata": {},
     "output_type": "execute_result"
    }
   ],
   "source": [
    "logreg = LogisticRegression()\n",
    "logreg.fit(X_train_sm, y_train_sm)"
   ]
  },
  {
   "cell_type": "markdown",
   "id": "274a5ec2",
   "metadata": {},
   "source": [
    "#### CROSS VALIDATION"
   ]
  },
  {
   "cell_type": "code",
   "execution_count": 411,
   "id": "994fd8cb",
   "metadata": {},
   "outputs": [
    {
     "name": "stdout",
     "output_type": "stream",
     "text": [
      "Cross Validation Score : [0.8        0.82876712 0.82724252 0.77314815 0.        ]\n",
      "Mean Cross Validation Score : 0.6458315592705526\n"
     ]
    }
   ],
   "source": [
    "cv=KFold(n_splits=5)\n",
    "\n",
    "cross_score=cross_val_score(logreg,X_train_sm, y_train_sm,cv=cv, scoring='f1')\n",
    "\n",
    "print(f'Cross Validation Score : {cross_score}')\n",
    "print(f'Mean Cross Validation Score : {cross_score.mean()}')"
   ]
  },
  {
   "cell_type": "markdown",
   "id": "415abcdd",
   "metadata": {},
   "source": [
    "#### HYPER PARAMETER TUNING"
   ]
  },
  {
   "cell_type": "code",
   "execution_count": 412,
   "id": "6557d88e",
   "metadata": {},
   "outputs": [
    {
     "name": "stdout",
     "output_type": "stream",
     "text": [
      "Best parameters are : {'C': 7, 'max_iter': 20, 'penalty': 'l2'}\n",
      "The score is : 0.8661506512621591\n"
     ]
    }
   ],
   "source": [
    "param = {'C':[3,4,5,6,7,10],'penalty':['l2','l1'],'max_iter':[10,20,25,50]}\n",
    "c = GridSearchCV(logreg,param,cv=cv,scoring='f1')\n",
    "c.fit(X_train,y_train)\n",
    "def display(results):\n",
    "    print(f'Best parameters are : {results.best_params_}')\n",
    "    print(f'The score is : {results.best_score_}')\n",
    "display(c)"
   ]
  },
  {
   "cell_type": "markdown",
   "id": "fdc5d2ff",
   "metadata": {},
   "source": [
    "### LOGISTIC REGRESSION - TUNED MODEL"
   ]
  },
  {
   "cell_type": "markdown",
   "id": "815e353d",
   "metadata": {},
   "source": [
    "#### MODEL FITTING"
   ]
  },
  {
   "cell_type": "code",
   "execution_count": 413,
   "id": "eecbd7da",
   "metadata": {
    "colab": {
     "base_uri": "https://localhost:8080/"
    },
    "id": "kLTZnTgF2Fm6",
    "outputId": "f183585d-0bac-4523-cb0c-3904882ecba2"
   },
   "outputs": [
    {
     "data": {
      "text/plain": [
       "LogisticRegression(C=7, max_iter=20)"
      ]
     },
     "execution_count": 413,
     "metadata": {},
     "output_type": "execute_result"
    }
   ],
   "source": [
    "logreg = LogisticRegression(C=7,max_iter=20,penalty='l2')\n",
    "logreg.fit(X_train_sm, y_train_sm)"
   ]
  },
  {
   "cell_type": "markdown",
   "id": "42ad74ff",
   "metadata": {},
   "source": [
    "#### CROSS VALIDATION"
   ]
  },
  {
   "cell_type": "code",
   "execution_count": 414,
   "id": "e50b4037",
   "metadata": {},
   "outputs": [
    {
     "name": "stdout",
     "output_type": "stream",
     "text": [
      "Cross Validation Score : [0.79581152 0.82556131 0.82943144 0.77598152 0.        ]\n",
      "Mean Cross Validation Score : 0.6453571586618129\n"
     ]
    }
   ],
   "source": [
    "cross_score=cross_val_score(logreg,X_train_sm, y_train_sm,cv=cv, scoring='f1')\n",
    "\n",
    "print(f'Cross Validation Score : {cross_score}')\n",
    "print(f'Mean Cross Validation Score : {cross_score.mean()}')"
   ]
  },
  {
   "cell_type": "markdown",
   "id": "a8abd78b",
   "metadata": {},
   "source": [
    "#### METRIC EVALUATION ON TEST DATA"
   ]
  },
  {
   "cell_type": "code",
   "execution_count": 415,
   "id": "e1dc05ea",
   "metadata": {},
   "outputs": [
    {
     "name": "stdout",
     "output_type": "stream",
     "text": [
      "Accuracy of Logistic Regression Classifier on test set: 0.789\n"
     ]
    }
   ],
   "source": [
    "y_pred = logreg.predict(X_test)\n",
    "print('Accuracy of Logistic Regression Classifier on test set: {:.3f}'.format(logreg.score(X_test, y_test)))"
   ]
  },
  {
   "cell_type": "markdown",
   "id": "f5a54b50",
   "metadata": {
    "id": "5xZiz661t_Cr"
   },
   "source": [
    "#### Confusion Matrix -"
   ]
  },
  {
   "cell_type": "code",
   "execution_count": 416,
   "id": "c378eb43",
   "metadata": {
    "colab": {
     "base_uri": "https://localhost:8080/"
    },
    "id": "MJ1brs6c2Frd",
    "outputId": "430726ea-be1f-4fc3-c8d9-ece8f99da2a3"
   },
   "outputs": [
    {
     "name": "stdout",
     "output_type": "stream",
     "text": [
      "[[174  56]\n",
      " [ 95 390]]\n"
     ]
    }
   ],
   "source": [
    "confusionmatrix = confusion_matrix(y_test, y_pred)\n",
    "print(confusionmatrix)"
   ]
  },
  {
   "cell_type": "markdown",
   "id": "b248cd66",
   "metadata": {
    "id": "MjmDt7wfu-py"
   },
   "source": [
    "#### Classification Report -"
   ]
  },
  {
   "cell_type": "code",
   "execution_count": 417,
   "id": "8788ed59",
   "metadata": {
    "colab": {
     "base_uri": "https://localhost:8080/"
    },
    "id": "P1PHIUsx2Ftg",
    "outputId": "e3dc3f82-9f8f-4768-d502-6c64fee06153"
   },
   "outputs": [
    {
     "name": "stdout",
     "output_type": "stream",
     "text": [
      "              precision    recall  f1-score   support\n",
      "\n",
      "           0       0.65      0.76      0.70       230\n",
      "           1       0.87      0.80      0.84       485\n",
      "\n",
      "    accuracy                           0.79       715\n",
      "   macro avg       0.76      0.78      0.77       715\n",
      "weighted avg       0.80      0.79      0.79       715\n",
      "\n"
     ]
    }
   ],
   "source": [
    "print(classification_report(y_test, y_pred))"
   ]
  },
  {
   "cell_type": "markdown",
   "id": "b57fd718",
   "metadata": {},
   "source": [
    "### ROC CURVE"
   ]
  },
  {
   "cell_type": "markdown",
   "id": "f90689e7",
   "metadata": {
    "id": "RCEP6nRdtNlJ"
   },
   "source": [
    "An ROC curve (receiver operating characteristic curve) is a graph showing the performance of a classification model at all classification thresholds. This curve plots two parameters:\n",
    "\n",
    "- True Positive Rate\n",
    "- False Positive Rate\n",
    "\n",
    "True Positive Rate (TPR) is a synonym for recall and is therefore defined as follows:\n",
    "\n",
    "- TPR=(TP)/(TP+FN)\n",
    "\n",
    "False Positive Rate (FPR) is defined as follows:\n",
    "\n",
    "- FPR=(FP)/(FP+TN)\n",
    "\n",
    "An ROC curve plots TPR vs. FPR at different classification thresholds. Lowering the classification threshold classifies more items as positive, thus increasing both False Positives and True Positives. The following figure shows a typical ROC curve."
   ]
  },
  {
   "cell_type": "markdown",
   "id": "e274a87f",
   "metadata": {},
   "source": [
    "### AUC (AREA UNDER CURVE)"
   ]
  },
  {
   "cell_type": "markdown",
   "id": "b82146db",
   "metadata": {
    "id": "aVHG2ck4tX-4"
   },
   "source": [
    "AUC stands for \"Area under the ROC Curve.\" That is, AUC measures the entire two-dimensional area underneath the entire ROC curve (think integral calculus) from (0,0) to (1,1).\n",
    "\n",
    "\n",
    "AUC provides an aggregate measure of performance across all possible classification thresholds. One way of interpreting AUC is as the probability that the model ranks a random positive example more highly than a random negative example. For example, given the following examples, which are arranged from left to right in ascending order of logistic regression predictions:"
   ]
  },
  {
   "cell_type": "code",
   "execution_count": 418,
   "id": "833068e0",
   "metadata": {
    "colab": {
     "base_uri": "https://localhost:8080/",
     "height": 295
    },
    "id": "0ETktDQu2Fvv",
    "outputId": "eb39413c-27cd-4f0b-94d2-6c1d4abe6b61"
   },
   "outputs": [
    {
     "data": {
      "image/png": "[encoded data removed]",
      "text/plain": [
       "<Figure size 640x480 with 1 Axes>"
      ]
     },
     "metadata": {},
     "output_type": "display_data"
    }
   ],
   "source": [
    "roc_auc = roc_auc_score(y_test, logreg.predict(X_test))\n",
    "fpr, tpr, thresholds = roc_curve(y_test, logreg.predict_proba(X_test)[:,1])\n",
    "plt.figure()\n",
    "plt.plot(fpr, tpr, label='Logistic Regression (area = %0.2f)' % roc_auc)\n",
    "plt.plot([0, 1], [0, 1],'r--')\n",
    "plt.xlim([0.0, 1.0])\n",
    "plt.ylim([0.0, 1.05])\n",
    "plt.xlabel('False Positive Rate')\n",
    "plt.ylabel('True Positive Rate')\n",
    "plt.title('Receiver operating characteristic')\n",
    "plt.legend(loc=\"lower right\")\n",
    "plt.show()"
   ]
  },
  {
   "cell_type": "code",
   "execution_count": 419,
   "id": "f1115438",
   "metadata": {
    "colab": {
     "base_uri": "https://localhost:8080/",
     "height": 279
    },
    "id": "FXMya1BT2F2P",
    "outputId": "4f7d4d95-715f-4088-faef-40f272531ba7"
   },
   "outputs": [
    {
     "data": {
      "image/png": "[encoded data removed]",
      "text/plain": [
       "<Figure size 640x480 with 1 Axes>"
      ]
     },
     "metadata": {},
     "output_type": "display_data"
    }
   ],
   "source": [
    "def precision_recall_curve_plot(y_test, pred_proba_c1):\n",
    "    precisions, recalls, thresholds = precision_recall_curve(y_test, pred_proba_c1)\n",
    "\n",
    "    threshold_boundary = thresholds.shape[0]\n",
    "    # plot precision\n",
    "    plt.plot(thresholds, precisions[0:threshold_boundary], linestyle='--', label='precision')\n",
    "    # plot recall\n",
    "    plt.plot(thresholds, recalls[0:threshold_boundary], label='recalls')\n",
    "\n",
    "    start, end = plt.xlim()\n",
    "    plt.xticks(np.round(np.arange(start, end, 0.1), 2))\n",
    "\n",
    "    plt.xlabel('Threshold Value'); plt.ylabel('Precision and Recall Value')\n",
    "    plt.legend(); plt.grid()\n",
    "    plt.show()\n",
    "\n",
    "precision_recall_curve_plot(y_test, logreg.predict_proba(X_test)[:,1])"
   ]
  },
  {
   "cell_type": "markdown",
   "id": "f815af70",
   "metadata": {
    "id": "9b5qqldTwvWf"
   },
   "source": [
    "### RANDOM FOREST CLASSIFIER - BASE MODEL"
   ]
  },
  {
   "cell_type": "markdown",
   "id": "d2e21758",
   "metadata": {},
   "source": [
    "#### MODEL FITTING"
   ]
  },
  {
   "cell_type": "code",
   "execution_count": 420,
   "id": "517d9d58",
   "metadata": {
    "colab": {
     "base_uri": "https://localhost:8080/"
    },
    "id": "kLTZnTgF2Fm6",
    "outputId": "f183585d-0bac-4523-cb0c-3904882ecba2"
   },
   "outputs": [
    {
     "data": {
      "text/plain": [
       "RandomForestClassifier()"
      ]
     },
     "execution_count": 420,
     "metadata": {},
     "output_type": "execute_result"
    }
   ],
   "source": [
    "rf = RandomForestClassifier()\n",
    "rf.fit(X_train_sm, y_train_sm)"
   ]
  },
  {
   "cell_type": "markdown",
   "id": "d7f68117",
   "metadata": {},
   "source": [
    "#### CROSS VALIDATION"
   ]
  },
  {
   "cell_type": "code",
   "execution_count": 421,
   "id": "89b2e0b1",
   "metadata": {},
   "outputs": [
    {
     "name": "stdout",
     "output_type": "stream",
     "text": [
      "Cross Validation Score : [0.85178876 0.88026981 0.88244767 0.84466019 0.        ]\n",
      "Mean Cross Validation Score : 0.6918332860244127\n"
     ]
    }
   ],
   "source": [
    "cv=KFold(n_splits=5)\n",
    "\n",
    "cross_score=cross_val_score(rf,X_train_sm, y_train_sm,cv=cv, scoring='f1')\n",
    "\n",
    "print(f'Cross Validation Score : {cross_score}')\n",
    "print(f'Mean Cross Validation Score : {cross_score.mean()}')"
   ]
  },
  {
   "cell_type": "markdown",
   "id": "56fa041b",
   "metadata": {},
   "source": [
    "#### HYPER PARAMETER TUNING"
   ]
  },
  {
   "cell_type": "code",
   "execution_count": 422,
   "id": "e9bfdc3a",
   "metadata": {},
   "outputs": [
    {
     "name": "stdout",
     "output_type": "stream",
     "text": [
      "Best parameters are : {'criterion': 'gini', 'max_depth': 10, 'max_features': 'log2', 'n_estimators': 100}\n",
      "The score is : 0.8783372476261484\n"
     ]
    }
   ],
   "source": [
    "param = {'max_depth':[10,20,50], 'n_estimators':[50,100], 'criterion':['gini','entropy'],\n",
    "        'max_features':['auto','sqrt','log2']}\n",
    "c = GridSearchCV(rf,param,cv=cv,scoring='f1')\n",
    "c.fit(X_train,y_train)\n",
    "def display(results):\n",
    "    print(f'Best parameters are : {results.best_params_}')\n",
    "    print(f'The score is : {results.best_score_}')\n",
    "display(c)"
   ]
  },
  {
   "cell_type": "markdown",
   "id": "c7089bf0",
   "metadata": {},
   "source": [
    "### RANDOM FOREST CLASSIFIER - TUNED MODEL"
   ]
  },
  {
   "cell_type": "markdown",
   "id": "eacb4434",
   "metadata": {},
   "source": [
    "#### MODEL FITTING"
   ]
  },
  {
   "cell_type": "code",
   "execution_count": 423,
   "id": "654ddb56",
   "metadata": {
    "colab": {
     "base_uri": "https://localhost:8080/"
    },
    "id": "kLTZnTgF2Fm6",
    "outputId": "f183585d-0bac-4523-cb0c-3904882ecba2"
   },
   "outputs": [
    {
     "data": {
      "text/plain": [
       "RandomForestClassifier(max_depth=20, max_features='sqrt')"
      ]
     },
     "execution_count": 423,
     "metadata": {},
     "output_type": "execute_result"
    }
   ],
   "source": [
    "rf = RandomForestClassifier(criterion='gini',max_depth=20, max_features ='sqrt',n_estimators= 100)\n",
    "rf.fit(X_train_sm, y_train_sm)"
   ]
  },
  {
   "cell_type": "markdown",
   "id": "37415e42",
   "metadata": {},
   "source": [
    "#### CROSS VALIDATION"
   ]
  },
  {
   "cell_type": "code",
   "execution_count": 424,
   "id": "20c98be7",
   "metadata": {},
   "outputs": [
    {
     "name": "stdout",
     "output_type": "stream",
     "text": [
      "Cross Validation Score : [0.85616438 0.88175676 0.88492707 0.84134615 0.        ]\n",
      "Mean Cross Validation Score : 0.6928388721230243\n"
     ]
    }
   ],
   "source": [
    "cross_score=cross_val_score(rf,X_train_sm, y_train_sm,cv=cv, scoring='f1')\n",
    "\n",
    "print(f'Cross Validation Score : {cross_score}')\n",
    "print(f'Mean Cross Validation Score : {cross_score.mean()}')"
   ]
  },
  {
   "cell_type": "markdown",
   "id": "d3c3863c",
   "metadata": {},
   "source": [
    "#### METRIC EVALUATION ON TEST DATA"
   ]
  },
  {
   "cell_type": "code",
   "execution_count": 425,
   "id": "52416028",
   "metadata": {},
   "outputs": [
    {
     "name": "stdout",
     "output_type": "stream",
     "text": [
      "Accuracy of Logistic Regression Classifier on test set: 0.806\n"
     ]
    }
   ],
   "source": [
    "y_pred = rf.predict(X_test)\n",
    "print('Accuracy of Logistic Regression Classifier on test set: {:.3f}'.format(rf.score(X_test, y_test)))"
   ]
  },
  {
   "cell_type": "markdown",
   "id": "2a08b179",
   "metadata": {
    "id": "5xZiz661t_Cr"
   },
   "source": [
    "#### Confusion Matrix -"
   ]
  },
  {
   "cell_type": "code",
   "execution_count": 426,
   "id": "a15858b2",
   "metadata": {
    "colab": {
     "base_uri": "https://localhost:8080/"
    },
    "id": "MJ1brs6c2Frd",
    "outputId": "430726ea-be1f-4fc3-c8d9-ece8f99da2a3"
   },
   "outputs": [
    {
     "name": "stdout",
     "output_type": "stream",
     "text": [
      "[[168  62]\n",
      " [ 77 408]]\n"
     ]
    }
   ],
   "source": [
    "confusionmatrix = confusion_matrix(y_test, y_pred)\n",
    "print(confusionmatrix)"
   ]
  },
  {
   "cell_type": "markdown",
   "id": "68a3875a",
   "metadata": {
    "id": "MjmDt7wfu-py"
   },
   "source": [
    "#### Classification Report -"
   ]
  },
  {
   "cell_type": "code",
   "execution_count": 427,
   "id": "fd55e21b",
   "metadata": {
    "colab": {
     "base_uri": "https://localhost:8080/"
    },
    "id": "P1PHIUsx2Ftg",
    "outputId": "e3dc3f82-9f8f-4768-d502-6c64fee06153"
   },
   "outputs": [
    {
     "name": "stdout",
     "output_type": "stream",
     "text": [
      "              precision    recall  f1-score   support\n",
      "\n",
      "           0       0.69      0.73      0.71       230\n",
      "           1       0.87      0.84      0.85       485\n",
      "\n",
      "    accuracy                           0.81       715\n",
      "   macro avg       0.78      0.79      0.78       715\n",
      "weighted avg       0.81      0.81      0.81       715\n",
      "\n"
     ]
    }
   ],
   "source": [
    "print(classification_report(y_test, y_pred))"
   ]
  },
  {
   "cell_type": "markdown",
   "id": "359455f9",
   "metadata": {},
   "source": [
    "### ROC CURVE"
   ]
  },
  {
   "cell_type": "code",
   "execution_count": 428,
   "id": "dfcc4da1",
   "metadata": {
    "colab": {
     "base_uri": "https://localhost:8080/",
     "height": 295
    },
    "id": "0ETktDQu2Fvv",
    "outputId": "eb39413c-27cd-4f0b-94d2-6c1d4abe6b61"
   },
   "outputs": [
    {
     "data": {
      "image/png": "[encoded data removed]",
      "text/plain": [
       "<Figure size 640x480 with 1 Axes>"
      ]
     },
     "metadata": {},
     "output_type": "display_data"
    }
   ],
   "source": [
    "roc_auc = roc_auc_score(y_test, rf.predict(X_test))\n",
    "fpr, tpr, thresholds = roc_curve(y_test, rf.predict_proba(X_test)[:,1])\n",
    "plt.figure()\n",
    "plt.plot(fpr, tpr, label='Random Forest (area = %0.2f)' % roc_auc)\n",
    "plt.plot([0, 1], [0, 1],'r--')\n",
    "plt.xlim([0.0, 1.0])\n",
    "plt.ylim([0.0, 1.05])\n",
    "plt.xlabel('False Positive Rate')\n",
    "plt.ylabel('True Positive Rate')\n",
    "plt.title('Receiver operating characteristic')\n",
    "plt.legend(loc=\"lower right\")\n",
    "plt.show()"
   ]
  },
  {
   "cell_type": "code",
   "execution_count": 429,
   "id": "5b96087a",
   "metadata": {
    "colab": {
     "base_uri": "https://localhost:8080/",
     "height": 279
    },
    "id": "FXMya1BT2F2P",
    "outputId": "4f7d4d95-715f-4088-faef-40f272531ba7"
   },
   "outputs": [
    {
     "data": {
      "image/png": "[encoded data removed]",
      "text/plain": [
       "<Figure size 640x480 with 1 Axes>"
      ]
     },
     "metadata": {},
     "output_type": "display_data"
    }
   ],
   "source": [
    "def precision_recall_curve_plot(y_test, pred_proba_c1):\n",
    "    precisions, recalls, thresholds = precision_recall_curve(y_test, pred_proba_c1)\n",
    "\n",
    "    threshold_boundary = thresholds.shape[0]\n",
    "    # plot precision\n",
    "    plt.plot(thresholds, precisions[0:threshold_boundary], linestyle='--', label='precision')\n",
    "    # plot recall\n",
    "    plt.plot(thresholds, recalls[0:threshold_boundary], label='recalls')\n",
    "\n",
    "    start, end = plt.xlim()\n",
    "    plt.xticks(np.round(np.arange(start, end, 0.1), 2))\n",
    "\n",
    "    plt.xlabel('Threshold Value'); plt.ylabel('Precision and Recall Value')\n",
    "    plt.legend(); plt.grid()\n",
    "    plt.show()\n",
    "\n",
    "precision_recall_curve_plot(y_test, rf.predict_proba(X_test)[:,1])"
   ]
  },
  {
   "cell_type": "markdown",
   "id": "e11185e3",
   "metadata": {
    "id": "9b5qqldTwvWf"
   },
   "source": [
    "### XGBOOST CLASSIFIER - BASE MODEL"
   ]
  },
  {
   "cell_type": "markdown",
   "id": "04cc662f",
   "metadata": {},
   "source": [
    "#### MODEL FITTING"
   ]
  },
  {
   "cell_type": "code",
   "execution_count": 430,
   "id": "f507ad51",
   "metadata": {
    "colab": {
     "base_uri": "https://localhost:8080/"
    },
    "id": "kLTZnTgF2Fm6",
    "outputId": "f183585d-0bac-4523-cb0c-3904882ecba2"
   },
   "outputs": [
    {
     "data": {
      "text/plain": [
       "XGBClassifier(base_score=None, booster=None, callbacks=None,\n",
       "              colsample_bylevel=None, colsample_bynode=None,\n",
       "              colsample_bytree=None, device=None, early_stopping_rounds=None,\n",
       "              enable_categorical=False, eval_metric=None, feature_types=None,\n",
       "              gamma=None, grow_policy=None, importance_type=None,\n",
       "              interaction_constraints=None, learning_rate=None, max_bin=None,\n",
       "              max_cat_threshold=None, max_cat_to_onehot=None,\n",
       "              max_delta_step=None, max_depth=None, max_leaves=None,\n",
       "              min_child_weight=None, missing=nan, monotone_constraints=None,\n",
       "              multi_strategy=None, n_estimators=None, n_jobs=None,\n",
       "              num_parallel_tree=None, random_state=None, ...)"
      ]
     },
     "execution_count": 430,
     "metadata": {},
     "output_type": "execute_result"
    }
   ],
   "source": [
    "xgb = XGBClassifier()\n",
    "xgb.fit(X_train_sm, y_train_sm)"
   ]
  },
  {
   "cell_type": "markdown",
   "id": "6448f248",
   "metadata": {},
   "source": [
    "#### CROSS VALIDATION"
   ]
  },
  {
   "cell_type": "code",
   "execution_count": 431,
   "id": "cf00acc2",
   "metadata": {},
   "outputs": [
    {
     "name": "stdout",
     "output_type": "stream",
     "text": [
      "Cross Validation Score : [0.83445946 0.87248322 0.88467615 0.84596577 0.        ]\n",
      "Mean Cross Validation Score : 0.6875169192893542\n"
     ]
    }
   ],
   "source": [
    "cv=KFold(n_splits=5)\n",
    "\n",
    "cross_score=cross_val_score(xgb,X_train_sm, y_train_sm,cv=cv, scoring='f1')\n",
    "\n",
    "print(f'Cross Validation Score : {cross_score}')\n",
    "print(f'Mean Cross Validation Score : {cross_score.mean()}')"
   ]
  },
  {
   "cell_type": "markdown",
   "id": "9032b244",
   "metadata": {},
   "source": [
    "#### HYPER PARAMETER TUNING"
   ]
  },
  {
   "cell_type": "code",
   "execution_count": 432,
   "id": "c2ad632a",
   "metadata": {},
   "outputs": [
    {
     "name": "stdout",
     "output_type": "stream",
     "text": [
      "Best parameters are : {'criterion': 'gini', 'max_depth': 20, 'max_features': 'auto', 'n_estimators': 100}\n",
      "The score is : 0.8645457892127986\n"
     ]
    }
   ],
   "source": [
    "param = {'max_depth':[10,20,50], 'n_estimators':[50,100], 'criterion':['gini','entropy'],\n",
    "        'max_features':['auto','sqrt','log2']}\n",
    "c = GridSearchCV(xgb,param,cv=cv,scoring='f1')\n",
    "c.fit(X_train,y_train)\n",
    "def display(results):\n",
    "    print(f'Best parameters are : {results.best_params_}')\n",
    "    print(f'The score is : {results.best_score_}')\n",
    "display(c)"
   ]
  },
  {
   "cell_type": "markdown",
   "id": "8a6211c5",
   "metadata": {},
   "source": [
    "### XGBOOST CLASSIFIER - TUNED MODEL"
   ]
  },
  {
   "cell_type": "markdown",
   "id": "6e0d013a",
   "metadata": {},
   "source": [
    "#### MODEL FITTING"
   ]
  },
  {
   "cell_type": "code",
   "execution_count": 433,
   "id": "9c4ecf26",
   "metadata": {
    "colab": {
     "base_uri": "https://localhost:8080/"
    },
    "id": "kLTZnTgF2Fm6",
    "outputId": "f183585d-0bac-4523-cb0c-3904882ecba2"
   },
   "outputs": [
    {
     "data": {
      "text/plain": [
       "RandomForestClassifier(max_depth=20)"
      ]
     },
     "execution_count": 433,
     "metadata": {},
     "output_type": "execute_result"
    }
   ],
   "source": [
    "rf = RandomForestClassifier(criterion='gini',max_depth=20, max_features ='auto',n_estimators= 100)\n",
    "rf.fit(X_train_sm, y_train_sm)"
   ]
  },
  {
   "cell_type": "markdown",
   "id": "cc4844a9",
   "metadata": {},
   "source": [
    "#### CROSS VALIDATION"
   ]
  },
  {
   "cell_type": "code",
   "execution_count": 434,
   "id": "3766faa3",
   "metadata": {},
   "outputs": [
    {
     "name": "stdout",
     "output_type": "stream",
     "text": [
      "Cross Validation Score : [0.85519591 0.8836425  0.87254902 0.83373494 0.        ]\n",
      "Mean Cross Validation Score : 0.6890244733129994\n"
     ]
    }
   ],
   "source": [
    "cross_score=cross_val_score(rf,X_train_sm, y_train_sm,cv=cv, scoring='f1')\n",
    "\n",
    "print(f'Cross Validation Score : {cross_score}')\n",
    "print(f'Mean Cross Validation Score : {cross_score.mean()}')"
   ]
  },
  {
   "cell_type": "markdown",
   "id": "f9dac36a",
   "metadata": {},
   "source": [
    "#### METRIC EVALUATION ON TEST DATA"
   ]
  },
  {
   "cell_type": "code",
   "execution_count": 435,
   "id": "e05fa310",
   "metadata": {},
   "outputs": [
    {
     "name": "stdout",
     "output_type": "stream",
     "text": [
      "Accuracy of Logistic Regression Classifier on test set: 0.808\n"
     ]
    }
   ],
   "source": [
    "y_pred = rf.predict(X_test)\n",
    "print('Accuracy of Logistic Regression Classifier on test set: {:.3f}'.format(xgb.score(X_test, y_test)))"
   ]
  },
  {
   "cell_type": "markdown",
   "id": "92aa121b",
   "metadata": {
    "id": "5xZiz661t_Cr"
   },
   "source": [
    "#### Confusion Matrix -"
   ]
  },
  {
   "cell_type": "code",
   "execution_count": 436,
   "id": "6e00f3ca",
   "metadata": {
    "colab": {
     "base_uri": "https://localhost:8080/"
    },
    "id": "MJ1brs6c2Frd",
    "outputId": "430726ea-be1f-4fc3-c8d9-ece8f99da2a3"
   },
   "outputs": [
    {
     "name": "stdout",
     "output_type": "stream",
     "text": [
      "[[173  57]\n",
      " [ 73 412]]\n"
     ]
    }
   ],
   "source": [
    "confusionmatrix = confusion_matrix(y_test, y_pred)\n",
    "print(confusionmatrix)"
   ]
  },
  {
   "cell_type": "markdown",
   "id": "9a4185d1",
   "metadata": {
    "id": "MjmDt7wfu-py"
   },
   "source": [
    "#### Classification Report -"
   ]
  },
  {
   "cell_type": "code",
   "execution_count": 437,
   "id": "9cdaa920",
   "metadata": {
    "colab": {
     "base_uri": "https://localhost:8080/"
    },
    "id": "P1PHIUsx2Ftg",
    "outputId": "e3dc3f82-9f8f-4768-d502-6c64fee06153"
   },
   "outputs": [
    {
     "name": "stdout",
     "output_type": "stream",
     "text": [
      "              precision    recall  f1-score   support\n",
      "\n",
      "           0       0.70      0.75      0.73       230\n",
      "           1       0.88      0.85      0.86       485\n",
      "\n",
      "    accuracy                           0.82       715\n",
      "   macro avg       0.79      0.80      0.80       715\n",
      "weighted avg       0.82      0.82      0.82       715\n",
      "\n"
     ]
    }
   ],
   "source": [
    "print(classification_report(y_test, y_pred))"
   ]
  },
  {
   "cell_type": "markdown",
   "id": "8d8500f1",
   "metadata": {},
   "source": [
    "### ROC CURVE"
   ]
  },
  {
   "cell_type": "code",
   "execution_count": 438,
   "id": "81fb96d0",
   "metadata": {
    "colab": {
     "base_uri": "https://localhost:8080/",
     "height": 295
    },
    "id": "0ETktDQu2Fvv",
    "outputId": "eb39413c-27cd-4f0b-94d2-6c1d4abe6b61"
   },
   "outputs": [
    {
     "data": {
      "image/png": "[encoded data removed]",
      "text/plain": [
       "<Figure size 640x480 with 1 Axes>"
      ]
     },
     "metadata": {},
     "output_type": "display_data"
    }
   ],
   "source": [
    "roc_auc = roc_auc_score(y_test, xgb.predict(X_test))\n",
    "fpr, tpr, thresholds = roc_curve(y_test, xgb.predict_proba(X_test)[:,1])\n",
    "plt.figure()\n",
    "plt.plot(fpr, tpr, label='XGBOOST (area = %0.2f)' % logit_roc_auc)\n",
    "plt.plot([0, 1], [0, 1],'r--')\n",
    "plt.xlim([0.0, 1.0])\n",
    "plt.ylim([0.0, 1.05])\n",
    "plt.xlabel('False Positive Rate')\n",
    "plt.ylabel('True Positive Rate')\n",
    "plt.title('Receiver operating characteristic')\n",
    "plt.legend(loc=\"lower right\")\n",
    "plt.show()"
   ]
  },
  {
   "cell_type": "code",
   "execution_count": 439,
   "id": "69e6a5fa",
   "metadata": {
    "colab": {
     "base_uri": "https://localhost:8080/",
     "height": 279
    },
    "id": "FXMya1BT2F2P",
    "outputId": "4f7d4d95-715f-4088-faef-40f272531ba7"
   },
   "outputs": [
    {
     "data": {
      "image/png": "[encoded data removed]",
      "text/plain": [
       "<Figure size 640x480 with 1 Axes>"
      ]
     },
     "metadata": {},
     "output_type": "display_data"
    }
   ],
   "source": [
    "def precision_recall_curve_plot(y_test, pred_proba_c1):\n",
    "    precisions, recalls, thresholds = precision_recall_curve(y_test, pred_proba_c1)\n",
    "\n",
    "    threshold_boundary = thresholds.shape[0]\n",
    "    # plot precision\n",
    "    plt.plot(thresholds, precisions[0:threshold_boundary], linestyle='--', label='precision')\n",
    "    # plot recall\n",
    "    plt.plot(thresholds, recalls[0:threshold_boundary], label='recalls')\n",
    "\n",
    "    start, end = plt.xlim()\n",
    "    plt.xticks(np.round(np.arange(start, end, 0.1), 2))\n",
    "\n",
    "    plt.xlabel('Threshold Value'); plt.ylabel('Precision and Recall Value')\n",
    "    plt.legend(); plt.grid()\n",
    "    plt.show()\n",
    "\n",
    "precision_recall_curve_plot(y_test, xgb.predict_proba(X_test)[:,1])"
   ]
  },
  {
   "cell_type": "markdown",
   "id": "bbbb7618",
   "metadata": {},
   "source": [
    "### SUMMARIZE MODEL PERFORMANCE"
   ]
  },
  {
   "cell_type": "markdown",
   "id": "7097e33a",
   "metadata": {},
   "source": [
    "**LOGISTIC REGRESSION**<br>\n",
    "Accuracy : 0.789<br>\n",
    "Precision : 0.87<br>\n",
    "Recall : 0.80<br>\n",
    "F1 Score : 0.84<br>\n",
    "AUC ROC : 0.78<br><br>\n",
    "**RANDOM FOREST**<br>\n",
    "Accuracy : 0.806<br>\n",
    "Precision : 0.87<br>\n",
    "Recall : 0.84<br>\n",
    "F1 Score : 0.85<br>\n",
    "AUC ROC : 0.79<br><br>\n",
    "**XGBOOST**<br>\n",
    "Accuracy : 0.808<br>\n",
    "Precision : 0.86<br>\n",
    "Recall : 0.85<br>\n",
    "F1 Score : 0.86<br>\n",
    "AUC ROC : 0.79"
   ]
  },
  {
   "cell_type": "markdown",
   "id": "287fd0fb",
   "metadata": {},
   "source": [
    "XGBOOST is performing better compared to other models"
   ]
  },
  {
   "cell_type": "markdown",
   "id": "sZ08Hvmf8axo",
   "metadata": {
    "id": "sZ08Hvmf8axo"
   },
   "source": [
    "### FEATURE IMPORTANCES"
   ]
  },
  {
   "cell_type": "code",
   "execution_count": 440,
   "id": "qQdtYKHF48A0",
   "metadata": {
    "colab": {
     "base_uri": "https://localhost:8080/",
     "height": 1523
    },
    "id": "qQdtYKHF48A0",
    "outputId": "cf47c49d-eec9-4e04-b9ea-c676e54d9776",
    "scrolled": true
   },
   "outputs": [
    {
     "data": {
      "text/html": [
       "<div>\n",
       "<style scoped>\n",
       "    .dataframe tbody tr th:only-of-type {\n",
       "        vertical-align: middle;\n",
       "    }\n",
       "\n",
       "    .dataframe tbody tr th {\n",
       "        vertical-align: top;\n",
       "    }\n",
       "\n",
       "    .dataframe thead th {\n",
       "        text-align: right;\n",
       "    }\n",
       "</style>\n",
       "<table border=\"1\" class=\"dataframe\">\n",
       "  <thead>\n",
       "    <tr style=\"text-align: right;\">\n",
       "      <th></th>\n",
       "      <th>Coefficients</th>\n",
       "      <th>Features</th>\n",
       "    </tr>\n",
       "  </thead>\n",
       "  <tbody>\n",
       "    <tr>\n",
       "      <th>16</th>\n",
       "      <td>0.420200</td>\n",
       "      <td>quarterly_rating_imp_1</td>\n",
       "    </tr>\n",
       "    <tr>\n",
       "      <th>6</th>\n",
       "      <td>0.113582</td>\n",
       "      <td>Joining Designation_3.0</td>\n",
       "    </tr>\n",
       "    <tr>\n",
       "      <th>3</th>\n",
       "      <td>0.054402</td>\n",
       "      <td>Total Business Value</td>\n",
       "    </tr>\n",
       "    <tr>\n",
       "      <th>13</th>\n",
       "      <td>0.051953</td>\n",
       "      <td>Quarterly Rating_2.0</td>\n",
       "    </tr>\n",
       "    <tr>\n",
       "      <th>14</th>\n",
       "      <td>0.051239</td>\n",
       "      <td>Quarterly Rating_3.0</td>\n",
       "    </tr>\n",
       "    <tr>\n",
       "      <th>4</th>\n",
       "      <td>0.047718</td>\n",
       "      <td>monthofjoining</td>\n",
       "    </tr>\n",
       "    <tr>\n",
       "      <th>7</th>\n",
       "      <td>0.045053</td>\n",
       "      <td>Joining Designation_4.0</td>\n",
       "    </tr>\n",
       "    <tr>\n",
       "      <th>11</th>\n",
       "      <td>0.037136</td>\n",
       "      <td>Grade_4.0</td>\n",
       "    </tr>\n",
       "    <tr>\n",
       "      <th>15</th>\n",
       "      <td>0.033822</td>\n",
       "      <td>Quarterly Rating_4.0</td>\n",
       "    </tr>\n",
       "    <tr>\n",
       "      <th>0</th>\n",
       "      <td>0.028543</td>\n",
       "      <td>Age</td>\n",
       "    </tr>\n",
       "    <tr>\n",
       "      <th>1</th>\n",
       "      <td>0.027666</td>\n",
       "      <td>City</td>\n",
       "    </tr>\n",
       "    <tr>\n",
       "      <th>2</th>\n",
       "      <td>0.024139</td>\n",
       "      <td>Income</td>\n",
       "    </tr>\n",
       "    <tr>\n",
       "      <th>5</th>\n",
       "      <td>0.019457</td>\n",
       "      <td>Joining Designation_2.0</td>\n",
       "    </tr>\n",
       "    <tr>\n",
       "      <th>10</th>\n",
       "      <td>0.017195</td>\n",
       "      <td>Grade_3.0</td>\n",
       "    </tr>\n",
       "    <tr>\n",
       "      <th>17</th>\n",
       "      <td>0.015512</td>\n",
       "      <td>income_imp_1</td>\n",
       "    </tr>\n",
       "    <tr>\n",
       "      <th>9</th>\n",
       "      <td>0.012383</td>\n",
       "      <td>Grade_2.0</td>\n",
       "    </tr>\n",
       "    <tr>\n",
       "      <th>12</th>\n",
       "      <td>0.000000</td>\n",
       "      <td>Grade_5.0</td>\n",
       "    </tr>\n",
       "    <tr>\n",
       "      <th>8</th>\n",
       "      <td>0.000000</td>\n",
       "      <td>Joining Designation_5.0</td>\n",
       "    </tr>\n",
       "  </tbody>\n",
       "</table>\n",
       "</div>"
      ],
      "text/plain": [
       "    Coefficients                 Features\n",
       "16      0.420200   quarterly_rating_imp_1\n",
       "6       0.113582  Joining Designation_3.0\n",
       "3       0.054402     Total Business Value\n",
       "13      0.051953     Quarterly Rating_2.0\n",
       "14      0.051239     Quarterly Rating_3.0\n",
       "4       0.047718           monthofjoining\n",
       "7       0.045053  Joining Designation_4.0\n",
       "11      0.037136                Grade_4.0\n",
       "15      0.033822     Quarterly Rating_4.0\n",
       "0       0.028543                      Age\n",
       "1       0.027666                     City\n",
       "2       0.024139                   Income\n",
       "5       0.019457  Joining Designation_2.0\n",
       "10      0.017195                Grade_3.0\n",
       "17      0.015512             income_imp_1\n",
       "9       0.012383                Grade_2.0\n",
       "12      0.000000                Grade_5.0\n",
       "8       0.000000  Joining Designation_5.0"
      ]
     },
     "execution_count": 440,
     "metadata": {},
     "output_type": "execute_result"
    }
   ],
   "source": [
    "fi = pd.DataFrame()\n",
    "fi['Coefficients'] = xgb.feature_importances_.reshape(-1,)\n",
    "fi['Features'] = X_train.columns\n",
    "fi.sort_values(by='Coefficients', ascending=False,inplace=True)\n",
    "fi"
   ]
  },
  {
   "cell_type": "code",
   "execution_count": 441,
   "id": "5EMfBxbc8e33",
   "metadata": {
    "colab": {
     "base_uri": "https://localhost:8080/",
     "height": 1000
    },
    "id": "5EMfBxbc8e33",
    "outputId": "0bccdf1c-0151-49b3-d6da-cccaa70a9db9"
   },
   "outputs": [
    {
     "data": {
      "image/png": "[encoded data removed]",
      "text/plain": [
       "<Figure size 1500x500 with 1 Axes>"
      ]
     },
     "metadata": {},
     "output_type": "display_data"
    }
   ],
   "source": [
    "plt.figure(figsize=(15,5))\n",
    "plt.bar(x=fi['Features'], height=fi['Coefficients'])\n",
    "plt.xticks(rotation=90)\n",
    "plt.title('Feature importances')\n",
    "plt.xlabel('Features')\n",
    "plt.ylabel('Coefficients')\n",
    "plt.show()"
   ]
  },
  {
   "cell_type": "markdown",
   "id": "b9703f10",
   "metadata": {},
   "source": [
    "### INSIGHTS AND RECOMMENDATIONS"
   ]
  },
  {
   "cell_type": "markdown",
   "id": "11e6d6ee",
   "metadata": {},
   "source": [
    "* Quarterly rating is an important feature affecting the churn\n",
    "* Drivers with a quarterly rating of 1 is more likely to churn\n",
    "* There are more churns when there is no improvement in the quarterly ratings & income\n",
    "* To reduce churn, quarterly rating should be more than 3\n",
    "* 11 features of the driver are relevant for the churn prediction\n",
    "* Majority of the drivers are in the age group of 30 - 35\n",
    "* Both females and males are having similar proportions of churn where the no of people not churned is 50% of the number of people churned\n",
    "* Education level is not playing a major role in the churn analysis. Hypothesis testing will be done to confirm the statement\n",
    "* XGBoost Algorithm performs better than other models with an accuracy of close to 81% and F1 score of 86%"
   ]
  }
 ],
 "metadata": {
  "kernelspec": {
   "display_name": "Python 3 (ipykernel)",
   "language": "python",
   "name": "python3"
  },
  "language_info": {
   "codemirror_mode": {
    "name": "ipython",
    "version": 3
   },
   "file_extension": ".py",
   "mimetype": "text/x-python",
   "name": "python",
   "nbconvert_exporter": "python",
   "pygments_lexer": "ipython3",
   "version": "3.9.13"
  }
 },
 "nbformat": 4,
 "nbformat_minor": 5
}
